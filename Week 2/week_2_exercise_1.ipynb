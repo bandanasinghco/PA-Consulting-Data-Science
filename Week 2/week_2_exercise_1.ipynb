{
 "cells": [
  {
   "cell_type": "markdown",
   "metadata": {},
   "source": [
    "# Exercises 2.1: pre-processing data\n",
    "\n",
    "### PA Women in Tech: Intro to Data Science with Python\n",
    "\n",
    "In these exercises we will look at **handling missing data**. We will:\n",
    "- load in a dataset\n",
    "- look at different ways to handle missing data"
   ]
  },
  {
   "cell_type": "markdown",
   "metadata": {},
   "source": [
    "## Importing libraries\n",
    "\n",
    "1a. Import the `pandas` library with its usual short name of `pd`"
   ]
  },
  {
   "cell_type": "code",
   "execution_count": 1,
   "metadata": {},
   "outputs": [],
   "source": [
    "import pandas as pd\n",
    "import numpy as np"
   ]
  },
  {
   "cell_type": "markdown",
   "metadata": {},
   "source": [
    "## Data loading and exploring"
   ]
  },
  {
   "cell_type": "markdown",
   "metadata": {},
   "source": [
    "1b. Load the `racingData.csv` and `horseWeights.csv` datasets into two dataframes, named `df_races` and `df_horse_weights` respectively\n",
    "\n",
    "Hint: you will need to add the keyword argument `encoding='unicode_escape'` to the method you use"
   ]
  },
  {
   "cell_type": "code",
   "execution_count": 2,
   "metadata": {},
   "outputs": [],
   "source": [
    "df_races = pd.read_csv('racingData.csv', encoding='unicode_escape')\n",
    "df_horse_weights = pd.read_csv('horseWeights.csv', encoding='unicode_escape')"
   ]
  },
  {
   "cell_type": "markdown",
   "metadata": {},
   "source": [
    "1c. Show the first five rows of the dataframe `df_races`"
   ]
  },
  {
   "cell_type": "code",
   "execution_count": 3,
   "metadata": {},
   "outputs": [
    {
     "data": {
      "text/html": [
       "<div>\n",
       "<style scoped>\n",
       "    .dataframe tbody tr th:only-of-type {\n",
       "        vertical-align: middle;\n",
       "    }\n",
       "\n",
       "    .dataframe tbody tr th {\n",
       "        vertical-align: top;\n",
       "    }\n",
       "\n",
       "    .dataframe thead th {\n",
       "        text-align: right;\n",
       "    }\n",
       "</style>\n",
       "<table border=\"1\" class=\"dataframe\">\n",
       "  <thead>\n",
       "    <tr style=\"text-align: right;\">\n",
       "      <th></th>\n",
       "      <th>race date</th>\n",
       "      <th>horse_name</th>\n",
       "      <th>position</th>\n",
       "      <th>horse_age</th>\n",
       "      <th>bha_rating</th>\n",
       "      <th>draw</th>\n",
       "      <th>trainer_name</th>\n",
       "      <th>jockey_name</th>\n",
       "      <th>prize money 1</th>\n",
       "      <th>course name</th>\n",
       "      <th>race_age</th>\n",
       "      <th>race_title</th>\n",
       "      <th>Qaurter</th>\n",
       "      <th>race distance</th>\n",
       "      <th>odds</th>\n",
       "    </tr>\n",
       "  </thead>\n",
       "  <tbody>\n",
       "    <tr>\n",
       "      <th>0</th>\n",
       "      <td>11/12/2018</td>\n",
       "      <td>Cousin Khee</td>\n",
       "      <td>3</td>\n",
       "      <td>11.0</td>\n",
       "      <td>69</td>\n",
       "      <td>2</td>\n",
       "      <td>Hughie Morrison</td>\n",
       "      <td>Charlie Bennett</td>\n",
       "      <td>3752</td>\n",
       "      <td>SOUTHWELL (A.W)</td>\n",
       "      <td>3YO+</td>\n",
       "      <td>BETWAY STAYERS HANDICAP (5)</td>\n",
       "      <td>3rd</td>\n",
       "      <td>16</td>\n",
       "      <td>0.142857</td>\n",
       "    </tr>\n",
       "    <tr>\n",
       "      <th>1</th>\n",
       "      <td>11/12/2018</td>\n",
       "      <td>Essential</td>\n",
       "      <td>8</td>\n",
       "      <td>4.0</td>\n",
       "      <td>60</td>\n",
       "      <td>9</td>\n",
       "      <td>Olly Williams</td>\n",
       "      <td>Luke Morris</td>\n",
       "      <td>3105</td>\n",
       "      <td>SOUTHWELL (A.W)</td>\n",
       "      <td>4YO+</td>\n",
       "      <td>BETWAY DASH HANDICAP (6)</td>\n",
       "      <td>3rd</td>\n",
       "      <td>6</td>\n",
       "      <td>0.142857</td>\n",
       "    </tr>\n",
       "    <tr>\n",
       "      <th>2</th>\n",
       "      <td>11/12/2018</td>\n",
       "      <td>The Right Choice</td>\n",
       "      <td>4</td>\n",
       "      <td>3.0</td>\n",
       "      <td>69</td>\n",
       "      <td>6</td>\n",
       "      <td>Richard Fahey</td>\n",
       "      <td>Tony Hamilton</td>\n",
       "      <td>3752</td>\n",
       "      <td>SOUTHWELL (A.W)</td>\n",
       "      <td>3YO+</td>\n",
       "      <td>SUNRACING.CO.UK HANDICAP (DIV II) (5)</td>\n",
       "      <td>3rd</td>\n",
       "      <td>8</td>\n",
       "      <td>0.090909</td>\n",
       "    </tr>\n",
       "    <tr>\n",
       "      <th>3</th>\n",
       "      <td>11/12/2018</td>\n",
       "      <td>Argon</td>\n",
       "      <td>7</td>\n",
       "      <td>3.0</td>\n",
       "      <td>43</td>\n",
       "      <td>5</td>\n",
       "      <td>Noel Wilson</td>\n",
       "      <td>Andrew Mullen</td>\n",
       "      <td>3752</td>\n",
       "      <td>SOUTHWELL (A.W)</td>\n",
       "      <td>3YO+</td>\n",
       "      <td>BETWAY NOVICE STAKES (5)</td>\n",
       "      <td>3rd</td>\n",
       "      <td>5</td>\n",
       "      <td>0.020000</td>\n",
       "    </tr>\n",
       "    <tr>\n",
       "      <th>4</th>\n",
       "      <td>11/12/2018</td>\n",
       "      <td>Via Delle Volte</td>\n",
       "      <td>6</td>\n",
       "      <td>3.0</td>\n",
       "      <td>65</td>\n",
       "      <td>14</td>\n",
       "      <td>Joseph Tuite</td>\n",
       "      <td>Luke Morris</td>\n",
       "      <td>3752</td>\n",
       "      <td>SOUTHWELL (A.W)</td>\n",
       "      <td>3YO+</td>\n",
       "      <td>BETWAY STAYERS HANDICAP (5)</td>\n",
       "      <td>3rd</td>\n",
       "      <td>16</td>\n",
       "      <td>0.111111</td>\n",
       "    </tr>\n",
       "  </tbody>\n",
       "</table>\n",
       "</div>"
      ],
      "text/plain": [
       "    race date        horse_name  position  horse_age  bha_rating  draw  \\\n",
       "0  11/12/2018       Cousin Khee         3       11.0          69     2   \n",
       "1  11/12/2018         Essential         8        4.0          60     9   \n",
       "2  11/12/2018  The Right Choice         4        3.0          69     6   \n",
       "3  11/12/2018             Argon         7        3.0          43     5   \n",
       "4  11/12/2018   Via Delle Volte         6        3.0          65    14   \n",
       "\n",
       "      trainer_name      jockey_name  prize money 1      course name race_age  \\\n",
       "0  Hughie Morrison  Charlie Bennett           3752  SOUTHWELL (A.W)     3YO+   \n",
       "1    Olly Williams      Luke Morris           3105  SOUTHWELL (A.W)     4YO+   \n",
       "2    Richard Fahey    Tony Hamilton           3752  SOUTHWELL (A.W)     3YO+   \n",
       "3      Noel Wilson    Andrew Mullen           3752  SOUTHWELL (A.W)     3YO+   \n",
       "4     Joseph Tuite      Luke Morris           3752  SOUTHWELL (A.W)     3YO+   \n",
       "\n",
       "                              race_title Qaurter  race distance      odds  \n",
       "0            BETWAY STAYERS HANDICAP (5)     3rd             16  0.142857  \n",
       "1               BETWAY DASH HANDICAP (6)     3rd              6  0.142857  \n",
       "2  SUNRACING.CO.UK HANDICAP (DIV II) (5)     3rd              8  0.090909  \n",
       "3               BETWAY NOVICE STAKES (5)     3rd              5  0.020000  \n",
       "4            BETWAY STAYERS HANDICAP (5)     3rd             16  0.111111  "
      ]
     },
     "execution_count": 3,
     "metadata": {},
     "output_type": "execute_result"
    }
   ],
   "source": [
    "df_races.head()"
   ]
  },
  {
   "cell_type": "markdown",
   "metadata": {},
   "source": [
    "1d. Display the shape of the dataframe `df_races`"
   ]
  },
  {
   "cell_type": "code",
   "execution_count": 4,
   "metadata": {},
   "outputs": [
    {
     "data": {
      "text/plain": [
       "(1911, 15)"
      ]
     },
     "execution_count": 4,
     "metadata": {},
     "output_type": "execute_result"
    }
   ],
   "source": [
    "df_races.shape"
   ]
  },
  {
   "cell_type": "markdown",
   "metadata": {},
   "source": [
    "1e. Show the first five rows of the dataframe `df_horse_weights`"
   ]
  },
  {
   "cell_type": "code",
   "execution_count": 5,
   "metadata": {},
   "outputs": [
    {
     "data": {
      "text/html": [
       "<div>\n",
       "<style scoped>\n",
       "    .dataframe tbody tr th:only-of-type {\n",
       "        vertical-align: middle;\n",
       "    }\n",
       "\n",
       "    .dataframe tbody tr th {\n",
       "        vertical-align: top;\n",
       "    }\n",
       "\n",
       "    .dataframe thead th {\n",
       "        text-align: right;\n",
       "    }\n",
       "</style>\n",
       "<table border=\"1\" class=\"dataframe\">\n",
       "  <thead>\n",
       "    <tr style=\"text-align: right;\">\n",
       "      <th></th>\n",
       "      <th>horse_name</th>\n",
       "      <th>horse_weight</th>\n",
       "    </tr>\n",
       "  </thead>\n",
       "  <tbody>\n",
       "    <tr>\n",
       "      <th>0</th>\n",
       "      <td>Cousin Khee</td>\n",
       "      <td>132</td>\n",
       "    </tr>\n",
       "    <tr>\n",
       "      <th>1</th>\n",
       "      <td>Essential</td>\n",
       "      <td>128</td>\n",
       "    </tr>\n",
       "    <tr>\n",
       "      <th>2</th>\n",
       "      <td>The Right Choice</td>\n",
       "      <td>126</td>\n",
       "    </tr>\n",
       "    <tr>\n",
       "      <th>3</th>\n",
       "      <td>Argon</td>\n",
       "      <td>124</td>\n",
       "    </tr>\n",
       "    <tr>\n",
       "      <th>4</th>\n",
       "      <td>Via Delle Volte</td>\n",
       "      <td>123</td>\n",
       "    </tr>\n",
       "  </tbody>\n",
       "</table>\n",
       "</div>"
      ],
      "text/plain": [
       "         horse_name  horse_weight\n",
       "0       Cousin Khee           132\n",
       "1         Essential           128\n",
       "2  The Right Choice           126\n",
       "3             Argon           124\n",
       "4   Via Delle Volte           123"
      ]
     },
     "execution_count": 5,
     "metadata": {},
     "output_type": "execute_result"
    }
   ],
   "source": [
    "df_horse_weights.head()"
   ]
  },
  {
   "cell_type": "markdown",
   "metadata": {},
   "source": [
    "1f. Display the shape of the dataframe `df_horse_weights`"
   ]
  },
  {
   "cell_type": "code",
   "execution_count": 9,
   "metadata": {},
   "outputs": [
    {
     "data": {
      "text/plain": [
       "(1715, 2)"
      ]
     },
     "execution_count": 9,
     "metadata": {},
     "output_type": "execute_result"
    }
   ],
   "source": [
    "df_horse_weights.shape"
   ]
  },
  {
   "cell_type": "markdown",
   "metadata": {},
   "source": [
    "## Handling missing data using pandas"
   ]
  },
  {
   "cell_type": "markdown",
   "metadata": {},
   "source": [
    "2a. Count the number of missing values in each column of the dataframe `df_races`"
   ]
  },
  {
   "cell_type": "code",
   "execution_count": 10,
   "metadata": {},
   "outputs": [
    {
     "data": {
      "text/plain": [
       "race date          0\n",
       "horse_name        96\n",
       "position           0\n",
       "horse_age        226\n",
       "bha_rating         0\n",
       "draw               0\n",
       "trainer_name       0\n",
       "jockey_name        0\n",
       "prize money 1      0\n",
       "course name        0\n",
       "race_age           0\n",
       "race_title         0\n",
       "Qaurter            0\n",
       "race distance      0\n",
       "odds               0\n",
       "dtype: int64"
      ]
     },
     "execution_count": 10,
     "metadata": {},
     "output_type": "execute_result"
    }
   ],
   "source": [
    "df_races.isnull().sum()"
   ]
  },
  {
   "cell_type": "markdown",
   "metadata": {},
   "source": [
    "2b. Count the number of null values in the `horse_name` column of the dataframe `df_races`"
   ]
  },
  {
   "cell_type": "code",
   "execution_count": 24,
   "metadata": {},
   "outputs": [
    {
     "data": {
      "text/plain": [
       "96"
      ]
     },
     "execution_count": 24,
     "metadata": {},
     "output_type": "execute_result"
    }
   ],
   "source": [
    "df_races['horse_name'].isnull().sum()"
   ]
  },
  {
   "cell_type": "markdown",
   "metadata": {},
   "source": [
    "2c. Drop rows in the dataframe `df_races` that have an empty horse name"
   ]
  },
  {
   "cell_type": "code",
   "execution_count": 28,
   "metadata": {},
   "outputs": [
    {
     "data": {
      "text/plain": [
       "0            Cousin Khee\n",
       "1              Essential\n",
       "2       The Right Choice\n",
       "3                  Argon\n",
       "4        Via Delle Volte\n",
       "              ...       \n",
       "1906               Sitsi\n",
       "1907        Global Angel\n",
       "1908     Catheadans Fury\n",
       "1909    Mischievous Rock\n",
       "1910    Stone Of Destiny\n",
       "Name: horse_name, Length: 1911, dtype: object"
      ]
     },
     "execution_count": 28,
     "metadata": {},
     "output_type": "execute_result"
    }
   ],
   "source": [
    "# pandas doesnot recognise as null, so I think we can convert the empty strings\n",
    "# to np.nan object using replace() and then dropna() to delete the rows with null values.\n",
    "\n",
    "#solution: we can replace empty strings in the horse_name column with np.nan objects like:\n",
    "df_races['horse_name'].replace('', np.nan)"
   ]
  },
  {
   "cell_type": "code",
   "execution_count": 29,
   "metadata": {},
   "outputs": [],
   "source": [
    "result= df_races.dropna(subset=['horse_name'])"
   ]
  },
  {
   "cell_type": "markdown",
   "metadata": {},
   "source": [
    "2e.  Replace all empty horse age values with the mean horse age in the dataframe `df_races`"
   ]
  },
  {
   "cell_type": "code",
   "execution_count": 30,
   "metadata": {},
   "outputs": [
    {
     "data": {
      "text/plain": [
       "0       11.0\n",
       "1        4.0\n",
       "2        3.0\n",
       "3        3.0\n",
       "4        3.0\n",
       "        ... \n",
       "1906     3.0\n",
       "1907     3.0\n",
       "1908     4.0\n",
       "1909     3.0\n",
       "1910     3.0\n",
       "Name: horse_age, Length: 1911, dtype: float64"
      ]
     },
     "execution_count": 30,
     "metadata": {},
     "output_type": "execute_result"
    }
   ],
   "source": [
    "df_races['horse_age'].fillna(df_races['horse_age'].mean())"
   ]
  },
  {
   "cell_type": "code",
   "execution_count": null,
   "metadata": {},
   "outputs": [],
   "source": []
  }
 ],
 "metadata": {
  "kernelspec": {
   "display_name": "Python 3 (ipykernel)",
   "language": "python",
   "name": "python3"
  },
  "language_info": {
   "codemirror_mode": {
    "name": "ipython",
    "version": 3
   },
   "file_extension": ".py",
   "mimetype": "text/x-python",
   "name": "python",
   "nbconvert_exporter": "python",
   "pygments_lexer": "ipython3",
   "version": "3.10.10"
  }
 },
 "nbformat": 4,
 "nbformat_minor": 4
}
