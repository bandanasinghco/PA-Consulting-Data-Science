{
 "cells": [
  {
   "cell_type": "markdown",
   "id": "4253978a",
   "metadata": {},
   "source": [
    "# Exercises 1.1: importing and exporting data\n",
    "\n",
    "### PA Women in Tech: Intro to Data Science with Python\n",
    "\n",
    "In these exercises we will look at **importing and exploring data**. We will:\n",
    "- use pandas and NumPy\n",
    "- import files of diffent types\n",
    "- explore data to understand:\n",
    "    - data types\n",
    "    - missing data\n",
    "    - stats about data"
   ]
  },
  {
   "cell_type": "markdown",
   "id": "4232ec13-6881-4198-a8bc-8bf5611ee436",
   "metadata": {},
   "source": [
    "## Importing libraries\n",
    "\n",
    "1a. Import the `numpy` and `pandas` libraries, with their usual short names of `np` and `pd` respectively"
   ]
  },
  {
   "cell_type": "code",
   "execution_count": 1,
   "id": "67c1d9f2",
   "metadata": {},
   "outputs": [],
   "source": [
    "import pandas as pd\n",
    "import numpy as np"
   ]
  },
  {
   "cell_type": "markdown",
   "id": "cf752d3c-2c43-45b5-bb43-2148006be2de",
   "metadata": {},
   "source": [
    "## Loading data files"
   ]
  },
  {
   "cell_type": "code",
   "execution_count": 2,
   "id": "cdbf3b13-79fb-4770-9168-ad2e080513e3",
   "metadata": {},
   "outputs": [],
   "source": [
    "csv_file_name = \"week_1_data.csv\"\n",
    "txt_file_name = \"week_1_data.txt\""
   ]
  },
  {
   "cell_type": "markdown",
   "id": "9ac1353d-0534-4632-83df-3ca2c8830f83",
   "metadata": {},
   "source": [
    "1b. Load the csv and txt data files using the `numpy` functions `genfromtxt()` and `loadtxt()` and variable names `csv_array` and `txt_array` respectively\n",
    "\n",
    "* Also use the `delimiter=\",\"` and `dtype=str` keyword arguments\n",
    "\n",
    "* Use the `skip_header=1` and `skiprows=1` arguments respectively to ignore the first row which contains the column names"
   ]
  },
  {
   "cell_type": "code",
   "execution_count": 6,
   "id": "9827f08f-0757-4364-833f-fbbbe0dc0376",
   "metadata": {},
   "outputs": [],
   "source": [
    "csv_df = pd.read_csv(csv_file_name, sep=\",\")\n",
    "\n",
    "csv_array= np.genfromtxt(csv_file_name, delimiter=',', dtype=float, skip_header = 1)\n",
    "txt_array = np.loadtxt(txt_file_name, delimiter= ',', dtype=str, skiprows=1)\n"
   ]
  },
  {
   "cell_type": "markdown",
   "id": "8b90f0c4-c619-4500-88bf-0dbd6c16a191",
   "metadata": {},
   "source": [
    "1c. Load the csv and txt data files using the `pandas` functions `read_csv()` and `read_table()` and variable names `csv_df` and `txt_df` respectively\n",
    "* This time do not ignore the first row as the column names can be used by `pandas`"
   ]
  },
  {
   "cell_type": "code",
   "execution_count": 9,
   "id": "f6a9a1ff-dc53-432e-94e4-5254a11457fa",
   "metadata": {},
   "outputs": [
    {
     "data": {
      "text/html": [
       "<div>\n",
       "<style scoped>\n",
       "    .dataframe tbody tr th:only-of-type {\n",
       "        vertical-align: middle;\n",
       "    }\n",
       "\n",
       "    .dataframe tbody tr th {\n",
       "        vertical-align: top;\n",
       "    }\n",
       "\n",
       "    .dataframe thead th {\n",
       "        text-align: right;\n",
       "    }\n",
       "</style>\n",
       "<table border=\"1\" class=\"dataframe\">\n",
       "  <thead>\n",
       "    <tr style=\"text-align: right;\">\n",
       "      <th></th>\n",
       "      <th>feature A</th>\n",
       "      <th>feature B</th>\n",
       "      <th>feature C</th>\n",
       "      <th>feature D</th>\n",
       "      <th>feature E</th>\n",
       "      <th>feature F</th>\n",
       "      <th>feature G</th>\n",
       "      <th>feature H</th>\n",
       "      <th>feature I</th>\n",
       "      <th>label</th>\n",
       "    </tr>\n",
       "  </thead>\n",
       "  <tbody>\n",
       "    <tr>\n",
       "      <th>0</th>\n",
       "      <td>-1.692192</td>\n",
       "      <td>-0.421672</td>\n",
       "      <td>-1.789104</td>\n",
       "      <td>-1.293036</td>\n",
       "      <td>1.064762</td>\n",
       "      <td>1.544351</td>\n",
       "      <td>0.174556</td>\n",
       "      <td>0.572912</td>\n",
       "      <td>0.197412</td>\n",
       "      <td>-7.498772</td>\n",
       "    </tr>\n",
       "    <tr>\n",
       "      <th>1</th>\n",
       "      <td>-0.511220</td>\n",
       "      <td>-0.166921</td>\n",
       "      <td>0.507517</td>\n",
       "      <td>-0.243051</td>\n",
       "      <td>0.640542</td>\n",
       "      <td>0.439021</td>\n",
       "      <td>-1.827957</td>\n",
       "      <td>-0.731183</td>\n",
       "      <td>0.485393</td>\n",
       "      <td>21.162524</td>\n",
       "    </tr>\n",
       "    <tr>\n",
       "      <th>2</th>\n",
       "      <td>0.059353</td>\n",
       "      <td>0.831303</td>\n",
       "      <td>-0.915439</td>\n",
       "      <td>0.660302</td>\n",
       "      <td>0.555200</td>\n",
       "      <td>0.173515</td>\n",
       "      <td>0.139006</td>\n",
       "      <td>0.595713</td>\n",
       "      <td>-0.824207</td>\n",
       "      <td>151.148060</td>\n",
       "    </tr>\n",
       "    <tr>\n",
       "      <th>3</th>\n",
       "      <td>0.374488</td>\n",
       "      <td>-1.186930</td>\n",
       "      <td>-1.438007</td>\n",
       "      <td>-0.067405</td>\n",
       "      <td>0.898368</td>\n",
       "      <td>-0.515061</td>\n",
       "      <td>-0.253298</td>\n",
       "      <td>-1.156222</td>\n",
       "      <td>2.492447</td>\n",
       "      <td>86.522197</td>\n",
       "    </tr>\n",
       "    <tr>\n",
       "      <th>4</th>\n",
       "      <td>NaN</td>\n",
       "      <td>-0.067675</td>\n",
       "      <td>0.260916</td>\n",
       "      <td>-1.514934</td>\n",
       "      <td>NaN</td>\n",
       "      <td>0.820740</td>\n",
       "      <td>-1.338398</td>\n",
       "      <td>0.779921</td>\n",
       "      <td>-1.199852</td>\n",
       "      <td>-148.005658</td>\n",
       "    </tr>\n",
       "    <tr>\n",
       "      <th>...</th>\n",
       "      <td>...</td>\n",
       "      <td>...</td>\n",
       "      <td>...</td>\n",
       "      <td>...</td>\n",
       "      <td>...</td>\n",
       "      <td>...</td>\n",
       "      <td>...</td>\n",
       "      <td>...</td>\n",
       "      <td>...</td>\n",
       "      <td>...</td>\n",
       "    </tr>\n",
       "    <tr>\n",
       "      <th>1995</th>\n",
       "      <td>-1.085931</td>\n",
       "      <td>-2.551792</td>\n",
       "      <td>1.337470</td>\n",
       "      <td>0.086120</td>\n",
       "      <td>0.832729</td>\n",
       "      <td>0.971260</td>\n",
       "      <td>0.799607</td>\n",
       "      <td>1.070627</td>\n",
       "      <td>-1.134954</td>\n",
       "      <td>177.365526</td>\n",
       "    </tr>\n",
       "    <tr>\n",
       "      <th>1996</th>\n",
       "      <td>0.309848</td>\n",
       "      <td>-1.321750</td>\n",
       "      <td>-1.343061</td>\n",
       "      <td>0.275843</td>\n",
       "      <td>1.241276</td>\n",
       "      <td>-0.366639</td>\n",
       "      <td>-1.811137</td>\n",
       "      <td>0.827818</td>\n",
       "      <td>0.785298</td>\n",
       "      <td>86.830829</td>\n",
       "    </tr>\n",
       "    <tr>\n",
       "      <th>1997</th>\n",
       "      <td>0.016819</td>\n",
       "      <td>0.700305</td>\n",
       "      <td>0.521211</td>\n",
       "      <td>-1.805882</td>\n",
       "      <td>1.197416</td>\n",
       "      <td>0.753116</td>\n",
       "      <td>-0.269020</td>\n",
       "      <td>0.004878</td>\n",
       "      <td>0.284010</td>\n",
       "      <td>107.237119</td>\n",
       "    </tr>\n",
       "    <tr>\n",
       "      <th>1998</th>\n",
       "      <td>NaN</td>\n",
       "      <td>0.143954</td>\n",
       "      <td>0.145462</td>\n",
       "      <td>-0.251355</td>\n",
       "      <td>1.023405</td>\n",
       "      <td>-0.544188</td>\n",
       "      <td>-1.154111</td>\n",
       "      <td>1.446162</td>\n",
       "      <td>0.437147</td>\n",
       "      <td>-110.699384</td>\n",
       "    </tr>\n",
       "    <tr>\n",
       "      <th>1999</th>\n",
       "      <td>NaN</td>\n",
       "      <td>0.128160</td>\n",
       "      <td>0.329778</td>\n",
       "      <td>1.185982</td>\n",
       "      <td>0.358305</td>\n",
       "      <td>-0.049627</td>\n",
       "      <td>0.102574</td>\n",
       "      <td>-0.949944</td>\n",
       "      <td>1.095899</td>\n",
       "      <td>80.671137</td>\n",
       "    </tr>\n",
       "  </tbody>\n",
       "</table>\n",
       "<p>2000 rows × 10 columns</p>\n",
       "</div>"
      ],
      "text/plain": [
       "      feature A  feature B  feature C  feature D  feature E  feature F  \\\n",
       "0     -1.692192  -0.421672  -1.789104  -1.293036   1.064762   1.544351   \n",
       "1     -0.511220  -0.166921   0.507517  -0.243051   0.640542   0.439021   \n",
       "2      0.059353   0.831303  -0.915439   0.660302   0.555200   0.173515   \n",
       "3      0.374488  -1.186930  -1.438007  -0.067405   0.898368  -0.515061   \n",
       "4           NaN  -0.067675   0.260916  -1.514934        NaN   0.820740   \n",
       "...         ...        ...        ...        ...        ...        ...   \n",
       "1995  -1.085931  -2.551792   1.337470   0.086120   0.832729   0.971260   \n",
       "1996   0.309848  -1.321750  -1.343061   0.275843   1.241276  -0.366639   \n",
       "1997   0.016819   0.700305   0.521211  -1.805882   1.197416   0.753116   \n",
       "1998        NaN   0.143954   0.145462  -0.251355   1.023405  -0.544188   \n",
       "1999        NaN   0.128160   0.329778   1.185982   0.358305  -0.049627   \n",
       "\n",
       "      feature G  feature H  feature I       label  \n",
       "0      0.174556   0.572912   0.197412   -7.498772  \n",
       "1     -1.827957  -0.731183   0.485393   21.162524  \n",
       "2      0.139006   0.595713  -0.824207  151.148060  \n",
       "3     -0.253298  -1.156222   2.492447   86.522197  \n",
       "4     -1.338398   0.779921  -1.199852 -148.005658  \n",
       "...         ...        ...        ...         ...  \n",
       "1995   0.799607   1.070627  -1.134954  177.365526  \n",
       "1996  -1.811137   0.827818   0.785298   86.830829  \n",
       "1997  -0.269020   0.004878   0.284010  107.237119  \n",
       "1998  -1.154111   1.446162   0.437147 -110.699384  \n",
       "1999   0.102574  -0.949944   1.095899   80.671137  \n",
       "\n",
       "[2000 rows x 10 columns]"
      ]
     },
     "execution_count": 9,
     "metadata": {},
     "output_type": "execute_result"
    }
   ],
   "source": [
    "csv_df = pd.read_csv(csv_file_name, delimiter=\",\")\n",
    "txt_df = pd.read_table(txt_file_name, delimiter=\",\")"
   ]
  },
  {
   "cell_type": "markdown",
   "id": "84847fc0-0941-4201-9a32-344614ae7e79",
   "metadata": {},
   "source": [
    "## Exploring the CSV file imported with NumPy"
   ]
  },
  {
   "cell_type": "markdown",
   "id": "4ced468c-9ec6-4e15-8e8a-70d8fc55c26b",
   "metadata": {},
   "source": [
    "2a. Display the data types of the array elements from `csv_array`"
   ]
  },
  {
   "cell_type": "code",
   "execution_count": 14,
   "id": "b670ef65-fd57-4d78-8397-cf152fc2f1d7",
   "metadata": {},
   "outputs": [
    {
     "data": {
      "text/plain": [
       "dtype('float64')"
      ]
     },
     "execution_count": 14,
     "metadata": {},
     "output_type": "execute_result"
    }
   ],
   "source": [
    "csv_array.dtype"
   ]
  },
  {
   "cell_type": "markdown",
   "id": "e77bb056-8010-4d68-a8b2-ac33408e770b",
   "metadata": {},
   "source": [
    "2b. Display the shape of the data"
   ]
  },
  {
   "cell_type": "code",
   "execution_count": 15,
   "id": "7ee151a6-ca09-4f71-90ca-1172619f18fa",
   "metadata": {},
   "outputs": [
    {
     "data": {
      "text/plain": [
       "(2000, 10)"
      ]
     },
     "execution_count": 15,
     "metadata": {},
     "output_type": "execute_result"
    }
   ],
   "source": [
    "csv_array.shape"
   ]
  },
  {
   "cell_type": "markdown",
   "id": "ed73c9fa-3e7c-453b-b3c2-a5907ae115b3",
   "metadata": {},
   "source": [
    "2c. Display the length of the array"
   ]
  },
  {
   "cell_type": "code",
   "execution_count": 40,
   "id": "7a4e9c81-20ea-41ab-b48f-e15ef25c506d",
   "metadata": {},
   "outputs": [
    {
     "data": {
      "text/plain": [
       "2000"
      ]
     },
     "execution_count": 40,
     "metadata": {},
     "output_type": "execute_result"
    }
   ],
   "source": [
    "len(csv_array)"
   ]
  },
  {
   "cell_type": "markdown",
   "id": "ca1b2d33-c1ea-46f4-ae29-6d4daca1e609",
   "metadata": {},
   "source": [
    "2d. Display the first row of the array"
   ]
  },
  {
   "cell_type": "code",
   "execution_count": 21,
   "id": "ba9c0b21-9ed0-40dd-b9d6-f431411065df",
   "metadata": {},
   "outputs": [
    {
     "data": {
      "text/plain": [
       "array([[-1.6921919 , -0.42167236, -1.78910393, -1.29303593,  1.06476151,\n",
       "         1.54435129,  0.17455608,  0.57291248,  0.19741157, -7.49877184]])"
      ]
     },
     "execution_count": 21,
     "metadata": {},
     "output_type": "execute_result"
    }
   ],
   "source": [
    "csv_array[0:1]"
   ]
  },
  {
   "cell_type": "markdown",
   "id": "12da6ed0-67d5-4b5c-90e0-5051b6e54832",
   "metadata": {},
   "source": [
    "## Exploring the CSV file imported with pandas"
   ]
  },
  {
   "cell_type": "markdown",
   "id": "41c30703-2c32-4d5e-9e13-fece8c78eb15",
   "metadata": {},
   "source": [
    "3a. Display the first 5 rows of the dataframe `csv_df`"
   ]
  },
  {
   "cell_type": "code",
   "execution_count": 22,
   "id": "5cb97888-b9a4-4b15-b482-97aa1d4e4fca",
   "metadata": {},
   "outputs": [
    {
     "data": {
      "text/html": [
       "<div>\n",
       "<style scoped>\n",
       "    .dataframe tbody tr th:only-of-type {\n",
       "        vertical-align: middle;\n",
       "    }\n",
       "\n",
       "    .dataframe tbody tr th {\n",
       "        vertical-align: top;\n",
       "    }\n",
       "\n",
       "    .dataframe thead th {\n",
       "        text-align: right;\n",
       "    }\n",
       "</style>\n",
       "<table border=\"1\" class=\"dataframe\">\n",
       "  <thead>\n",
       "    <tr style=\"text-align: right;\">\n",
       "      <th></th>\n",
       "      <th>feature A</th>\n",
       "      <th>feature B</th>\n",
       "      <th>feature C</th>\n",
       "      <th>feature D</th>\n",
       "      <th>feature E</th>\n",
       "      <th>feature F</th>\n",
       "      <th>feature G</th>\n",
       "      <th>feature H</th>\n",
       "      <th>feature I</th>\n",
       "      <th>label</th>\n",
       "    </tr>\n",
       "  </thead>\n",
       "  <tbody>\n",
       "    <tr>\n",
       "      <th>0</th>\n",
       "      <td>-1.692192</td>\n",
       "      <td>-0.421672</td>\n",
       "      <td>-1.789104</td>\n",
       "      <td>-1.293036</td>\n",
       "      <td>1.064762</td>\n",
       "      <td>1.544351</td>\n",
       "      <td>0.174556</td>\n",
       "      <td>0.572912</td>\n",
       "      <td>0.197412</td>\n",
       "      <td>-7.498772</td>\n",
       "    </tr>\n",
       "    <tr>\n",
       "      <th>1</th>\n",
       "      <td>-0.511220</td>\n",
       "      <td>-0.166921</td>\n",
       "      <td>0.507517</td>\n",
       "      <td>-0.243051</td>\n",
       "      <td>0.640542</td>\n",
       "      <td>0.439021</td>\n",
       "      <td>-1.827957</td>\n",
       "      <td>-0.731183</td>\n",
       "      <td>0.485393</td>\n",
       "      <td>21.162524</td>\n",
       "    </tr>\n",
       "    <tr>\n",
       "      <th>2</th>\n",
       "      <td>0.059353</td>\n",
       "      <td>0.831303</td>\n",
       "      <td>-0.915439</td>\n",
       "      <td>0.660302</td>\n",
       "      <td>0.555200</td>\n",
       "      <td>0.173515</td>\n",
       "      <td>0.139006</td>\n",
       "      <td>0.595713</td>\n",
       "      <td>-0.824207</td>\n",
       "      <td>151.148060</td>\n",
       "    </tr>\n",
       "    <tr>\n",
       "      <th>3</th>\n",
       "      <td>0.374488</td>\n",
       "      <td>-1.186930</td>\n",
       "      <td>-1.438007</td>\n",
       "      <td>-0.067405</td>\n",
       "      <td>0.898368</td>\n",
       "      <td>-0.515061</td>\n",
       "      <td>-0.253298</td>\n",
       "      <td>-1.156222</td>\n",
       "      <td>2.492447</td>\n",
       "      <td>86.522197</td>\n",
       "    </tr>\n",
       "    <tr>\n",
       "      <th>4</th>\n",
       "      <td>NaN</td>\n",
       "      <td>-0.067675</td>\n",
       "      <td>0.260916</td>\n",
       "      <td>-1.514934</td>\n",
       "      <td>NaN</td>\n",
       "      <td>0.820740</td>\n",
       "      <td>-1.338398</td>\n",
       "      <td>0.779921</td>\n",
       "      <td>-1.199852</td>\n",
       "      <td>-148.005658</td>\n",
       "    </tr>\n",
       "  </tbody>\n",
       "</table>\n",
       "</div>"
      ],
      "text/plain": [
       "   feature A  feature B  feature C  feature D  feature E  feature F  \\\n",
       "0  -1.692192  -0.421672  -1.789104  -1.293036   1.064762   1.544351   \n",
       "1  -0.511220  -0.166921   0.507517  -0.243051   0.640542   0.439021   \n",
       "2   0.059353   0.831303  -0.915439   0.660302   0.555200   0.173515   \n",
       "3   0.374488  -1.186930  -1.438007  -0.067405   0.898368  -0.515061   \n",
       "4        NaN  -0.067675   0.260916  -1.514934        NaN   0.820740   \n",
       "\n",
       "   feature G  feature H  feature I       label  \n",
       "0   0.174556   0.572912   0.197412   -7.498772  \n",
       "1  -1.827957  -0.731183   0.485393   21.162524  \n",
       "2   0.139006   0.595713  -0.824207  151.148060  \n",
       "3  -0.253298  -1.156222   2.492447   86.522197  \n",
       "4  -1.338398   0.779921  -1.199852 -148.005658  "
      ]
     },
     "execution_count": 22,
     "metadata": {},
     "output_type": "execute_result"
    }
   ],
   "source": [
    "csv_df.head(5)"
   ]
  },
  {
   "cell_type": "markdown",
   "id": "f1bd257f-ca62-44c2-a391-038e54ff91c5",
   "metadata": {},
   "source": [
    "3b. Display the last 5 rows of the dataframe"
   ]
  },
  {
   "cell_type": "code",
   "execution_count": 23,
   "id": "3d6588f9-3d77-4217-8e6b-e85e42f1fa7c",
   "metadata": {},
   "outputs": [
    {
     "data": {
      "text/html": [
       "<div>\n",
       "<style scoped>\n",
       "    .dataframe tbody tr th:only-of-type {\n",
       "        vertical-align: middle;\n",
       "    }\n",
       "\n",
       "    .dataframe tbody tr th {\n",
       "        vertical-align: top;\n",
       "    }\n",
       "\n",
       "    .dataframe thead th {\n",
       "        text-align: right;\n",
       "    }\n",
       "</style>\n",
       "<table border=\"1\" class=\"dataframe\">\n",
       "  <thead>\n",
       "    <tr style=\"text-align: right;\">\n",
       "      <th></th>\n",
       "      <th>feature A</th>\n",
       "      <th>feature B</th>\n",
       "      <th>feature C</th>\n",
       "      <th>feature D</th>\n",
       "      <th>feature E</th>\n",
       "      <th>feature F</th>\n",
       "      <th>feature G</th>\n",
       "      <th>feature H</th>\n",
       "      <th>feature I</th>\n",
       "      <th>label</th>\n",
       "    </tr>\n",
       "  </thead>\n",
       "  <tbody>\n",
       "    <tr>\n",
       "      <th>1995</th>\n",
       "      <td>-1.085931</td>\n",
       "      <td>-2.551792</td>\n",
       "      <td>1.337470</td>\n",
       "      <td>0.086120</td>\n",
       "      <td>0.832729</td>\n",
       "      <td>0.971260</td>\n",
       "      <td>0.799607</td>\n",
       "      <td>1.070627</td>\n",
       "      <td>-1.134954</td>\n",
       "      <td>177.365526</td>\n",
       "    </tr>\n",
       "    <tr>\n",
       "      <th>1996</th>\n",
       "      <td>0.309848</td>\n",
       "      <td>-1.321750</td>\n",
       "      <td>-1.343061</td>\n",
       "      <td>0.275843</td>\n",
       "      <td>1.241276</td>\n",
       "      <td>-0.366639</td>\n",
       "      <td>-1.811137</td>\n",
       "      <td>0.827818</td>\n",
       "      <td>0.785298</td>\n",
       "      <td>86.830829</td>\n",
       "    </tr>\n",
       "    <tr>\n",
       "      <th>1997</th>\n",
       "      <td>0.016819</td>\n",
       "      <td>0.700305</td>\n",
       "      <td>0.521211</td>\n",
       "      <td>-1.805882</td>\n",
       "      <td>1.197416</td>\n",
       "      <td>0.753116</td>\n",
       "      <td>-0.269020</td>\n",
       "      <td>0.004878</td>\n",
       "      <td>0.284010</td>\n",
       "      <td>107.237119</td>\n",
       "    </tr>\n",
       "    <tr>\n",
       "      <th>1998</th>\n",
       "      <td>NaN</td>\n",
       "      <td>0.143954</td>\n",
       "      <td>0.145462</td>\n",
       "      <td>-0.251355</td>\n",
       "      <td>1.023405</td>\n",
       "      <td>-0.544188</td>\n",
       "      <td>-1.154111</td>\n",
       "      <td>1.446162</td>\n",
       "      <td>0.437147</td>\n",
       "      <td>-110.699384</td>\n",
       "    </tr>\n",
       "    <tr>\n",
       "      <th>1999</th>\n",
       "      <td>NaN</td>\n",
       "      <td>0.128160</td>\n",
       "      <td>0.329778</td>\n",
       "      <td>1.185982</td>\n",
       "      <td>0.358305</td>\n",
       "      <td>-0.049627</td>\n",
       "      <td>0.102574</td>\n",
       "      <td>-0.949944</td>\n",
       "      <td>1.095899</td>\n",
       "      <td>80.671137</td>\n",
       "    </tr>\n",
       "  </tbody>\n",
       "</table>\n",
       "</div>"
      ],
      "text/plain": [
       "      feature A  feature B  feature C  feature D  feature E  feature F  \\\n",
       "1995  -1.085931  -2.551792   1.337470   0.086120   0.832729   0.971260   \n",
       "1996   0.309848  -1.321750  -1.343061   0.275843   1.241276  -0.366639   \n",
       "1997   0.016819   0.700305   0.521211  -1.805882   1.197416   0.753116   \n",
       "1998        NaN   0.143954   0.145462  -0.251355   1.023405  -0.544188   \n",
       "1999        NaN   0.128160   0.329778   1.185982   0.358305  -0.049627   \n",
       "\n",
       "      feature G  feature H  feature I       label  \n",
       "1995   0.799607   1.070627  -1.134954  177.365526  \n",
       "1996  -1.811137   0.827818   0.785298   86.830829  \n",
       "1997  -0.269020   0.004878   0.284010  107.237119  \n",
       "1998  -1.154111   1.446162   0.437147 -110.699384  \n",
       "1999   0.102574  -0.949944   1.095899   80.671137  "
      ]
     },
     "execution_count": 23,
     "metadata": {},
     "output_type": "execute_result"
    }
   ],
   "source": [
    "csv_df.tail()"
   ]
  },
  {
   "cell_type": "markdown",
   "id": "6d70a2ae-673f-43c4-ad2a-e39589299697",
   "metadata": {},
   "source": [
    "3c. Display the index of the dataframe"
   ]
  },
  {
   "cell_type": "code",
   "execution_count": 24,
   "id": "623153da-28d3-4be3-80d7-6ed08883c6b6",
   "metadata": {},
   "outputs": [
    {
     "data": {
      "text/plain": [
       "RangeIndex(start=0, stop=2000, step=1)"
      ]
     },
     "execution_count": 24,
     "metadata": {},
     "output_type": "execute_result"
    }
   ],
   "source": [
    "csv_df.index"
   ]
  },
  {
   "cell_type": "markdown",
   "id": "a4cccda3-9a92-457f-8183-02c4feb00aad",
   "metadata": {},
   "source": [
    "3d. Display the column names of the dataframe"
   ]
  },
  {
   "cell_type": "code",
   "execution_count": 25,
   "id": "2df92fc1-a106-4a6f-abf1-176f0c1ff1f2",
   "metadata": {},
   "outputs": [
    {
     "data": {
      "text/plain": [
       "Index(['feature A', 'feature B', 'feature C', 'feature D', 'feature E',\n",
       "       'feature F', 'feature G', 'feature H', 'feature I', 'label'],\n",
       "      dtype='object')"
      ]
     },
     "execution_count": 25,
     "metadata": {},
     "output_type": "execute_result"
    }
   ],
   "source": [
    "csv_df.columns"
   ]
  },
  {
   "cell_type": "markdown",
   "id": "ce6ef765-5478-4374-b9e4-2aa5f864eb18",
   "metadata": {},
   "source": [
    "3e. Display the dataframe information"
   ]
  },
  {
   "cell_type": "code",
   "execution_count": 27,
   "id": "c52991d0-cff7-40c3-9a13-5b0ece04fc07",
   "metadata": {},
   "outputs": [
    {
     "name": "stdout",
     "output_type": "stream",
     "text": [
      "<class 'pandas.core.frame.DataFrame'>\n",
      "RangeIndex: 2000 entries, 0 to 1999\n",
      "Data columns (total 10 columns):\n",
      " #   Column     Non-Null Count  Dtype  \n",
      "---  ------     --------------  -----  \n",
      " 0   feature A  1600 non-null   float64\n",
      " 1   feature B  1994 non-null   float64\n",
      " 2   feature C  1990 non-null   float64\n",
      " 3   feature D  1998 non-null   float64\n",
      " 4   feature E  1966 non-null   float64\n",
      " 5   feature F  1992 non-null   float64\n",
      " 6   feature G  1970 non-null   float64\n",
      " 7   feature H  1994 non-null   float64\n",
      " 8   feature I  1974 non-null   float64\n",
      " 9   label      2000 non-null   float64\n",
      "dtypes: float64(10)\n",
      "memory usage: 156.4 KB\n"
     ]
    }
   ],
   "source": [
    "csv_df.info()"
   ]
  },
  {
   "cell_type": "markdown",
   "id": "d39d4800-b750-49a5-8ce8-f66777813f1a",
   "metadata": {},
   "source": [
    "## Converting data between NumPy and pandas formats\n",
    "\n",
    "You can convert numpy array into a pandas dataframe and vice versa:"
   ]
  },
  {
   "cell_type": "code",
   "execution_count": 31,
   "id": "ccf28042-bfd4-40e5-8453-56e1a6f89d74",
   "metadata": {},
   "outputs": [
    {
     "data": {
      "text/html": [
       "<div>\n",
       "<style scoped>\n",
       "    .dataframe tbody tr th:only-of-type {\n",
       "        vertical-align: middle;\n",
       "    }\n",
       "\n",
       "    .dataframe tbody tr th {\n",
       "        vertical-align: top;\n",
       "    }\n",
       "\n",
       "    .dataframe thead th {\n",
       "        text-align: right;\n",
       "    }\n",
       "</style>\n",
       "<table border=\"1\" class=\"dataframe\">\n",
       "  <thead>\n",
       "    <tr style=\"text-align: right;\">\n",
       "      <th></th>\n",
       "      <th>-1.692192</th>\n",
       "      <th>-0.421672</th>\n",
       "      <th>-1.789104</th>\n",
       "      <th>-1.293036</th>\n",
       "      <th>1.064762</th>\n",
       "      <th>1.544351</th>\n",
       "      <th>0.174556</th>\n",
       "      <th>0.572912</th>\n",
       "      <th>0.197412</th>\n",
       "      <th>-7.498772</th>\n",
       "    </tr>\n",
       "  </thead>\n",
       "  <tbody>\n",
       "    <tr>\n",
       "      <th>0</th>\n",
       "      <td>-0.511220</td>\n",
       "      <td>-0.166921</td>\n",
       "      <td>0.507517</td>\n",
       "      <td>-0.243051</td>\n",
       "      <td>0.640542</td>\n",
       "      <td>0.439021</td>\n",
       "      <td>-1.827957</td>\n",
       "      <td>-0.731183</td>\n",
       "      <td>0.485393</td>\n",
       "      <td>21.162524</td>\n",
       "    </tr>\n",
       "    <tr>\n",
       "      <th>1</th>\n",
       "      <td>0.059353</td>\n",
       "      <td>0.831303</td>\n",
       "      <td>-0.915439</td>\n",
       "      <td>0.660302</td>\n",
       "      <td>0.555200</td>\n",
       "      <td>0.173515</td>\n",
       "      <td>0.139006</td>\n",
       "      <td>0.595713</td>\n",
       "      <td>-0.824207</td>\n",
       "      <td>151.148060</td>\n",
       "    </tr>\n",
       "    <tr>\n",
       "      <th>2</th>\n",
       "      <td>0.374488</td>\n",
       "      <td>-1.186930</td>\n",
       "      <td>-1.438007</td>\n",
       "      <td>-0.067405</td>\n",
       "      <td>0.898368</td>\n",
       "      <td>-0.515061</td>\n",
       "      <td>-0.253298</td>\n",
       "      <td>-1.156222</td>\n",
       "      <td>2.492447</td>\n",
       "      <td>86.522197</td>\n",
       "    </tr>\n",
       "    <tr>\n",
       "      <th>3</th>\n",
       "      <td>NaN</td>\n",
       "      <td>-0.067675</td>\n",
       "      <td>0.260916</td>\n",
       "      <td>-1.514934</td>\n",
       "      <td>NaN</td>\n",
       "      <td>0.820740</td>\n",
       "      <td>-1.338398</td>\n",
       "      <td>0.779921</td>\n",
       "      <td>-1.199852</td>\n",
       "      <td>-148.005658</td>\n",
       "    </tr>\n",
       "    <tr>\n",
       "      <th>4</th>\n",
       "      <td>-1.475299</td>\n",
       "      <td>0.528674</td>\n",
       "      <td>-0.169681</td>\n",
       "      <td>0.397809</td>\n",
       "      <td>0.038175</td>\n",
       "      <td>0.483537</td>\n",
       "      <td>0.230703</td>\n",
       "      <td>0.571630</td>\n",
       "      <td>0.476727</td>\n",
       "      <td>-76.199379</td>\n",
       "    </tr>\n",
       "    <tr>\n",
       "      <th>...</th>\n",
       "      <td>...</td>\n",
       "      <td>...</td>\n",
       "      <td>...</td>\n",
       "      <td>...</td>\n",
       "      <td>...</td>\n",
       "      <td>...</td>\n",
       "      <td>...</td>\n",
       "      <td>...</td>\n",
       "      <td>...</td>\n",
       "      <td>...</td>\n",
       "    </tr>\n",
       "    <tr>\n",
       "      <th>1994</th>\n",
       "      <td>-1.085931</td>\n",
       "      <td>-2.551792</td>\n",
       "      <td>1.337470</td>\n",
       "      <td>0.086120</td>\n",
       "      <td>0.832729</td>\n",
       "      <td>0.971260</td>\n",
       "      <td>0.799607</td>\n",
       "      <td>1.070627</td>\n",
       "      <td>-1.134954</td>\n",
       "      <td>177.365526</td>\n",
       "    </tr>\n",
       "    <tr>\n",
       "      <th>1995</th>\n",
       "      <td>0.309848</td>\n",
       "      <td>-1.321750</td>\n",
       "      <td>-1.343061</td>\n",
       "      <td>0.275843</td>\n",
       "      <td>1.241276</td>\n",
       "      <td>-0.366639</td>\n",
       "      <td>-1.811137</td>\n",
       "      <td>0.827818</td>\n",
       "      <td>0.785298</td>\n",
       "      <td>86.830829</td>\n",
       "    </tr>\n",
       "    <tr>\n",
       "      <th>1996</th>\n",
       "      <td>0.016819</td>\n",
       "      <td>0.700305</td>\n",
       "      <td>0.521211</td>\n",
       "      <td>-1.805882</td>\n",
       "      <td>1.197416</td>\n",
       "      <td>0.753116</td>\n",
       "      <td>-0.269020</td>\n",
       "      <td>0.004878</td>\n",
       "      <td>0.284010</td>\n",
       "      <td>107.237119</td>\n",
       "    </tr>\n",
       "    <tr>\n",
       "      <th>1997</th>\n",
       "      <td>NaN</td>\n",
       "      <td>0.143954</td>\n",
       "      <td>0.145462</td>\n",
       "      <td>-0.251355</td>\n",
       "      <td>1.023405</td>\n",
       "      <td>-0.544188</td>\n",
       "      <td>-1.154111</td>\n",
       "      <td>1.446162</td>\n",
       "      <td>0.437147</td>\n",
       "      <td>-110.699384</td>\n",
       "    </tr>\n",
       "    <tr>\n",
       "      <th>1998</th>\n",
       "      <td>NaN</td>\n",
       "      <td>0.128160</td>\n",
       "      <td>0.329778</td>\n",
       "      <td>1.185982</td>\n",
       "      <td>0.358305</td>\n",
       "      <td>-0.049627</td>\n",
       "      <td>0.102574</td>\n",
       "      <td>-0.949944</td>\n",
       "      <td>1.095899</td>\n",
       "      <td>80.671137</td>\n",
       "    </tr>\n",
       "  </tbody>\n",
       "</table>\n",
       "<p>1999 rows × 10 columns</p>\n",
       "</div>"
      ],
      "text/plain": [
       "      -1.692192  -0.421672  -1.789104  -1.293036   1.064762   1.544351  \\\n",
       "0     -0.511220  -0.166921   0.507517  -0.243051   0.640542   0.439021   \n",
       "1      0.059353   0.831303  -0.915439   0.660302   0.555200   0.173515   \n",
       "2      0.374488  -1.186930  -1.438007  -0.067405   0.898368  -0.515061   \n",
       "3           NaN  -0.067675   0.260916  -1.514934        NaN   0.820740   \n",
       "4     -1.475299   0.528674  -0.169681   0.397809   0.038175   0.483537   \n",
       "...         ...        ...        ...        ...        ...        ...   \n",
       "1994  -1.085931  -2.551792   1.337470   0.086120   0.832729   0.971260   \n",
       "1995   0.309848  -1.321750  -1.343061   0.275843   1.241276  -0.366639   \n",
       "1996   0.016819   0.700305   0.521211  -1.805882   1.197416   0.753116   \n",
       "1997        NaN   0.143954   0.145462  -0.251355   1.023405  -0.544188   \n",
       "1998        NaN   0.128160   0.329778   1.185982   0.358305  -0.049627   \n",
       "\n",
       "       0.174556   0.572912   0.197412   -7.498772  \n",
       "0     -1.827957  -0.731183   0.485393   21.162524  \n",
       "1      0.139006   0.595713  -0.824207  151.148060  \n",
       "2     -0.253298  -1.156222   2.492447   86.522197  \n",
       "3     -1.338398   0.779921  -1.199852 -148.005658  \n",
       "4      0.230703   0.571630   0.476727  -76.199379  \n",
       "...         ...        ...        ...         ...  \n",
       "1994   0.799607   1.070627  -1.134954  177.365526  \n",
       "1995  -1.811137   0.827818   0.785298   86.830829  \n",
       "1996  -0.269020   0.004878   0.284010  107.237119  \n",
       "1997  -1.154111   1.446162   0.437147 -110.699384  \n",
       "1998   0.102574  -0.949944   1.095899   80.671137  \n",
       "\n",
       "[1999 rows x 10 columns]"
      ]
     },
     "execution_count": 31,
     "metadata": {},
     "output_type": "execute_result"
    }
   ],
   "source": [
    "# Numpy array to pandas dataframe.\n",
    "# Using the first row as the column names.\n",
    "np_to_pd = pd.DataFrame(csv_array[1:], columns=csv_array[0])\n",
    "np_to_pd"
   ]
  },
  {
   "cell_type": "code",
   "execution_count": 29,
   "id": "0a2d7e94-e1d9-4ce7-9c87-65f65eb2267b",
   "metadata": {},
   "outputs": [
    {
     "data": {
      "text/plain": [
       "array([[-1.69219190e+00, -4.21672364e-01, -1.78910393e+00, ...,\n",
       "         5.72912477e-01,  1.97411565e-01, -7.49877184e+00],\n",
       "       [-5.11219807e-01, -1.66921125e-01,  5.07516962e-01, ...,\n",
       "        -7.31182952e-01,  4.85392710e-01,  2.11625235e+01],\n",
       "       [ 5.93525292e-02,  8.31303290e-01, -9.15438985e-01, ...,\n",
       "         5.95713392e-01, -8.24206760e-01,  1.51148060e+02],\n",
       "       ...,\n",
       "       [ 1.68192198e-02,  7.00304937e-01,  5.21211195e-01, ...,\n",
       "         4.87800238e-03,  2.84009618e-01,  1.07237119e+02],\n",
       "       [            nan,  1.43954424e-01,  1.45461612e-01, ...,\n",
       "         1.44616152e+00,  4.37146700e-01, -1.10699384e+02],\n",
       "       [            nan,  1.28160374e-01,  3.29777665e-01, ...,\n",
       "        -9.49943518e-01,  1.09589925e+00,  8.06711373e+01]])"
      ]
     },
     "execution_count": 29,
     "metadata": {},
     "output_type": "execute_result"
    }
   ],
   "source": [
    "# Pandas dataframe to numpy array.\n",
    "pd_to_np = csv_df.to_numpy()\n",
    "pd_to_np"
   ]
  },
  {
   "cell_type": "markdown",
   "id": "d9580984-7683-4c56-92fe-77af86fc2a82",
   "metadata": {},
   "source": [
    "## Calculating statistics on the data using NumPy"
   ]
  },
  {
   "cell_type": "markdown",
   "id": "c58a2f11-3e6e-4fbe-aae6-7448ee5d180b",
   "metadata": {},
   "source": [
    "4. Calculate the mean along both axes (`axis=0` and `axis=1`) from `csv_array`\n",
    "* Use the `numpy` function `nanmean` so that missing values are ignored \n",
    "* Remember to exclude the first row because it contains the column names"
   ]
  },
  {
   "cell_type": "code",
   "execution_count": 42,
   "id": "3fa00bee-6c23-4ad4-896a-c79683f8ce3a",
   "metadata": {},
   "outputs": [
    {
     "name": "stdout",
     "output_type": "stream",
     "text": [
      "[-0.0108105  -0.02209654  0.03483747  0.01735542  0.01161834  0.01699081\n",
      " -0.01505734 -0.03412821  0.01680321  0.31667077]\n"
     ]
    }
   ],
   "source": [
    "# Axis 0\n",
    "mean_num= np.nanmean(csv_array[1:, :], axis=0)\n",
    "print(mean_num)"
   ]
  },
  {
   "cell_type": "code",
   "execution_count": 43,
   "id": "4a0e1636",
   "metadata": {},
   "outputs": [
    {
     "name": "stdout",
     "output_type": "stream",
     "text": [
      "[  1.97546642  15.24228064   8.56705775 ...  10.86399715 -12.16143442\n",
      "   9.20802948]\n"
     ]
    }
   ],
   "source": [
    "# Axis 1\n",
    "mean_num2= np.nanmean(csv_array[1:, :], axis=1)\n",
    "print(mean_num2)"
   ]
  },
  {
   "cell_type": "markdown",
   "id": "787c6a62-5ca3-4c67-94b7-4df4f0feb5bc",
   "metadata": {},
   "source": [
    "## Calculating statistics on the data using pandas"
   ]
  },
  {
   "cell_type": "markdown",
   "id": "fd8ce2f1-1868-414f-827f-5eef0f64116a",
   "metadata": {},
   "source": [
    "5. Display the output of the dataframe method `.describe()` on `csv_df`, which shows the count, mean, std, min, percentiles and max for each column"
   ]
  },
  {
   "cell_type": "code",
   "execution_count": 38,
   "id": "9f1537d3-3f0e-48ff-b5c8-5253691da7df",
   "metadata": {},
   "outputs": [
    {
     "data": {
      "text/html": [
       "<div>\n",
       "<style scoped>\n",
       "    .dataframe tbody tr th:only-of-type {\n",
       "        vertical-align: middle;\n",
       "    }\n",
       "\n",
       "    .dataframe tbody tr th {\n",
       "        vertical-align: top;\n",
       "    }\n",
       "\n",
       "    .dataframe thead th {\n",
       "        text-align: right;\n",
       "    }\n",
       "</style>\n",
       "<table border=\"1\" class=\"dataframe\">\n",
       "  <thead>\n",
       "    <tr style=\"text-align: right;\">\n",
       "      <th></th>\n",
       "      <th>feature A</th>\n",
       "      <th>feature B</th>\n",
       "      <th>feature C</th>\n",
       "      <th>feature D</th>\n",
       "      <th>feature E</th>\n",
       "      <th>feature F</th>\n",
       "      <th>feature G</th>\n",
       "      <th>feature H</th>\n",
       "      <th>feature I</th>\n",
       "      <th>label</th>\n",
       "    </tr>\n",
       "  </thead>\n",
       "  <tbody>\n",
       "    <tr>\n",
       "      <th>count</th>\n",
       "      <td>1600.000000</td>\n",
       "      <td>1994.000000</td>\n",
       "      <td>1990.000000</td>\n",
       "      <td>1998.000000</td>\n",
       "      <td>1966.000000</td>\n",
       "      <td>1992.000000</td>\n",
       "      <td>1970.000000</td>\n",
       "      <td>1994.000000</td>\n",
       "      <td>1974.000000</td>\n",
       "      <td>2000.000000</td>\n",
       "    </tr>\n",
       "    <tr>\n",
       "      <th>mean</th>\n",
       "      <td>-0.011861</td>\n",
       "      <td>-0.022297</td>\n",
       "      <td>0.033921</td>\n",
       "      <td>0.016700</td>\n",
       "      <td>0.012154</td>\n",
       "      <td>0.017758</td>\n",
       "      <td>-0.014961</td>\n",
       "      <td>-0.033824</td>\n",
       "      <td>0.016895</td>\n",
       "      <td>0.312763</td>\n",
       "    </tr>\n",
       "    <tr>\n",
       "      <th>std</th>\n",
       "      <td>1.010551</td>\n",
       "      <td>1.002760</td>\n",
       "      <td>0.978280</td>\n",
       "      <td>1.017416</td>\n",
       "      <td>0.995681</td>\n",
       "      <td>0.993385</td>\n",
       "      <td>1.013103</td>\n",
       "      <td>1.004476</td>\n",
       "      <td>0.986380</td>\n",
       "      <td>104.393995</td>\n",
       "    </tr>\n",
       "    <tr>\n",
       "      <th>min</th>\n",
       "      <td>-3.439912</td>\n",
       "      <td>-3.275923</td>\n",
       "      <td>-3.443492</td>\n",
       "      <td>-3.274240</td>\n",
       "      <td>-3.683765</td>\n",
       "      <td>-3.146926</td>\n",
       "      <td>-3.565198</td>\n",
       "      <td>-3.716564</td>\n",
       "      <td>-3.360251</td>\n",
       "      <td>-333.885222</td>\n",
       "    </tr>\n",
       "    <tr>\n",
       "      <th>25%</th>\n",
       "      <td>-0.690217</td>\n",
       "      <td>-0.695670</td>\n",
       "      <td>-0.606334</td>\n",
       "      <td>-0.666610</td>\n",
       "      <td>-0.640518</td>\n",
       "      <td>-0.649662</td>\n",
       "      <td>-0.702557</td>\n",
       "      <td>-0.730709</td>\n",
       "      <td>-0.640179</td>\n",
       "      <td>-69.590348</td>\n",
       "    </tr>\n",
       "    <tr>\n",
       "      <th>50%</th>\n",
       "      <td>0.000634</td>\n",
       "      <td>-0.006647</td>\n",
       "      <td>0.030771</td>\n",
       "      <td>0.026552</td>\n",
       "      <td>-0.003669</td>\n",
       "      <td>0.027796</td>\n",
       "      <td>-0.017148</td>\n",
       "      <td>-0.043832</td>\n",
       "      <td>0.029037</td>\n",
       "      <td>3.708737</td>\n",
       "    </tr>\n",
       "    <tr>\n",
       "      <th>75%</th>\n",
       "      <td>0.647778</td>\n",
       "      <td>0.658105</td>\n",
       "      <td>0.664476</td>\n",
       "      <td>0.732399</td>\n",
       "      <td>0.695244</td>\n",
       "      <td>0.701049</td>\n",
       "      <td>0.687273</td>\n",
       "      <td>0.653868</td>\n",
       "      <td>0.659380</td>\n",
       "      <td>70.030880</td>\n",
       "    </tr>\n",
       "    <tr>\n",
       "      <th>max</th>\n",
       "      <td>3.116012</td>\n",
       "      <td>3.553539</td>\n",
       "      <td>3.656855</td>\n",
       "      <td>3.121439</td>\n",
       "      <td>2.922480</td>\n",
       "      <td>3.395417</td>\n",
       "      <td>4.039632</td>\n",
       "      <td>3.226508</td>\n",
       "      <td>3.736254</td>\n",
       "      <td>379.377975</td>\n",
       "    </tr>\n",
       "  </tbody>\n",
       "</table>\n",
       "</div>"
      ],
      "text/plain": [
       "         feature A    feature B    feature C    feature D    feature E  \\\n",
       "count  1600.000000  1994.000000  1990.000000  1998.000000  1966.000000   \n",
       "mean     -0.011861    -0.022297     0.033921     0.016700     0.012154   \n",
       "std       1.010551     1.002760     0.978280     1.017416     0.995681   \n",
       "min      -3.439912    -3.275923    -3.443492    -3.274240    -3.683765   \n",
       "25%      -0.690217    -0.695670    -0.606334    -0.666610    -0.640518   \n",
       "50%       0.000634    -0.006647     0.030771     0.026552    -0.003669   \n",
       "75%       0.647778     0.658105     0.664476     0.732399     0.695244   \n",
       "max       3.116012     3.553539     3.656855     3.121439     2.922480   \n",
       "\n",
       "         feature F    feature G    feature H    feature I        label  \n",
       "count  1992.000000  1970.000000  1994.000000  1974.000000  2000.000000  \n",
       "mean      0.017758    -0.014961    -0.033824     0.016895     0.312763  \n",
       "std       0.993385     1.013103     1.004476     0.986380   104.393995  \n",
       "min      -3.146926    -3.565198    -3.716564    -3.360251  -333.885222  \n",
       "25%      -0.649662    -0.702557    -0.730709    -0.640179   -69.590348  \n",
       "50%       0.027796    -0.017148    -0.043832     0.029037     3.708737  \n",
       "75%       0.701049     0.687273     0.653868     0.659380    70.030880  \n",
       "max       3.395417     4.039632     3.226508     3.736254   379.377975  "
      ]
     },
     "execution_count": 38,
     "metadata": {},
     "output_type": "execute_result"
    }
   ],
   "source": [
    "csv_df.describe()"
   ]
  },
  {
   "cell_type": "markdown",
   "id": "d755f4a6",
   "metadata": {},
   "source": [
    "Most data science work will require handling multi-dimensional arrays therefore it is more efficient to use pandas"
   ]
  }
 ],
 "metadata": {
  "kernelspec": {
   "display_name": "Python 3 (ipykernel)",
   "language": "python",
   "name": "python3"
  },
  "language_info": {
   "codemirror_mode": {
    "name": "ipython",
    "version": 3
   },
   "file_extension": ".py",
   "mimetype": "text/x-python",
   "name": "python",
   "nbconvert_exporter": "python",
   "pygments_lexer": "ipython3",
   "version": "3.10.10"
  },
  "vscode": {
   "interpreter": {
    "hash": "1ea59c860c23132520410c3f52749d13ac349d59bdbab355ae7eb97690fd1356"
   }
  }
 },
 "nbformat": 4,
 "nbformat_minor": 5
}
