{
 "cells": [
  {
   "cell_type": "markdown",
   "id": "81b1eb88",
   "metadata": {},
   "source": [
    "# Exercises 4.2: logistic regression\n",
    "\n",
    "### PA Women in Tech: Intro to Data Science with Python\n",
    "\n",
    "In these exercises we will look at creating a **logistic regression model** using the dataset that we explored in exercises 4.1. We will:\n",
    "- create a test and train split\n",
    "- standardise the input features\n",
    "- create a logistic regression model\n",
    "- evaluate the model\n",
    "\n",
    "First, we import pandas and seaborn libraries and necessary sklearn objects and load the dataset into a pandas dataframe. We'll also take a look at the first five lines."
   ]
  },
  {
   "cell_type": "code",
   "execution_count": 1,
   "id": "b235063e",
   "metadata": {},
   "outputs": [],
   "source": [
    "import seaborn as sns\n",
    "import pandas as pd \n",
    "from sklearn.model_selection import train_test_split\n",
    "from sklearn.linear_model import LogisticRegression\n",
    "from sklearn.metrics import ConfusionMatrixDisplay\n",
    "from sklearn.preprocessing import StandardScaler"
   ]
  },
  {
   "cell_type": "code",
   "execution_count": 2,
   "id": "5fa7de4f",
   "metadata": {
    "scrolled": true
   },
   "outputs": [
    {
     "data": {
      "text/html": [
       "<div>\n",
       "<style scoped>\n",
       "    .dataframe tbody tr th:only-of-type {\n",
       "        vertical-align: middle;\n",
       "    }\n",
       "\n",
       "    .dataframe tbody tr th {\n",
       "        vertical-align: top;\n",
       "    }\n",
       "\n",
       "    .dataframe thead th {\n",
       "        text-align: right;\n",
       "    }\n",
       "</style>\n",
       "<table border=\"1\" class=\"dataframe\">\n",
       "  <thead>\n",
       "    <tr style=\"text-align: right;\">\n",
       "      <th></th>\n",
       "      <th>age</th>\n",
       "      <th>sex</th>\n",
       "      <th>cp</th>\n",
       "      <th>trtbps</th>\n",
       "      <th>chol</th>\n",
       "      <th>fbs</th>\n",
       "      <th>restecg</th>\n",
       "      <th>thalachh</th>\n",
       "      <th>exng</th>\n",
       "      <th>oldpeak</th>\n",
       "      <th>slp</th>\n",
       "      <th>caa</th>\n",
       "      <th>thall</th>\n",
       "      <th>output</th>\n",
       "    </tr>\n",
       "  </thead>\n",
       "  <tbody>\n",
       "    <tr>\n",
       "      <th>0</th>\n",
       "      <td>63</td>\n",
       "      <td>1</td>\n",
       "      <td>3</td>\n",
       "      <td>145</td>\n",
       "      <td>233</td>\n",
       "      <td>1</td>\n",
       "      <td>0</td>\n",
       "      <td>150</td>\n",
       "      <td>0</td>\n",
       "      <td>2.3</td>\n",
       "      <td>0</td>\n",
       "      <td>0</td>\n",
       "      <td>1</td>\n",
       "      <td>1</td>\n",
       "    </tr>\n",
       "    <tr>\n",
       "      <th>1</th>\n",
       "      <td>37</td>\n",
       "      <td>1</td>\n",
       "      <td>2</td>\n",
       "      <td>130</td>\n",
       "      <td>250</td>\n",
       "      <td>0</td>\n",
       "      <td>1</td>\n",
       "      <td>187</td>\n",
       "      <td>0</td>\n",
       "      <td>3.5</td>\n",
       "      <td>0</td>\n",
       "      <td>0</td>\n",
       "      <td>2</td>\n",
       "      <td>1</td>\n",
       "    </tr>\n",
       "    <tr>\n",
       "      <th>2</th>\n",
       "      <td>41</td>\n",
       "      <td>0</td>\n",
       "      <td>1</td>\n",
       "      <td>130</td>\n",
       "      <td>204</td>\n",
       "      <td>0</td>\n",
       "      <td>0</td>\n",
       "      <td>172</td>\n",
       "      <td>0</td>\n",
       "      <td>1.4</td>\n",
       "      <td>2</td>\n",
       "      <td>0</td>\n",
       "      <td>2</td>\n",
       "      <td>1</td>\n",
       "    </tr>\n",
       "    <tr>\n",
       "      <th>3</th>\n",
       "      <td>56</td>\n",
       "      <td>1</td>\n",
       "      <td>1</td>\n",
       "      <td>120</td>\n",
       "      <td>236</td>\n",
       "      <td>0</td>\n",
       "      <td>1</td>\n",
       "      <td>178</td>\n",
       "      <td>0</td>\n",
       "      <td>0.8</td>\n",
       "      <td>2</td>\n",
       "      <td>0</td>\n",
       "      <td>2</td>\n",
       "      <td>1</td>\n",
       "    </tr>\n",
       "    <tr>\n",
       "      <th>4</th>\n",
       "      <td>57</td>\n",
       "      <td>0</td>\n",
       "      <td>0</td>\n",
       "      <td>120</td>\n",
       "      <td>354</td>\n",
       "      <td>0</td>\n",
       "      <td>1</td>\n",
       "      <td>163</td>\n",
       "      <td>1</td>\n",
       "      <td>0.6</td>\n",
       "      <td>2</td>\n",
       "      <td>0</td>\n",
       "      <td>2</td>\n",
       "      <td>1</td>\n",
       "    </tr>\n",
       "  </tbody>\n",
       "</table>\n",
       "</div>"
      ],
      "text/plain": [
       "   age  sex  cp  trtbps  chol  fbs  restecg  thalachh  exng  oldpeak  slp  \\\n",
       "0   63    1   3     145   233    1        0       150     0      2.3    0   \n",
       "1   37    1   2     130   250    0        1       187     0      3.5    0   \n",
       "2   41    0   1     130   204    0        0       172     0      1.4    2   \n",
       "3   56    1   1     120   236    0        1       178     0      0.8    2   \n",
       "4   57    0   0     120   354    0        1       163     1      0.6    2   \n",
       "\n",
       "   caa  thall  output  \n",
       "0    0      1       1  \n",
       "1    0      2       1  \n",
       "2    0      2       1  \n",
       "3    0      2       1  \n",
       "4    0      2       1  "
      ]
     },
     "execution_count": 2,
     "metadata": {},
     "output_type": "execute_result"
    }
   ],
   "source": [
    "df_heart = pd.read_csv(\"heart.csv\")\n",
    "df_heart.head()"
   ]
  },
  {
   "cell_type": "markdown",
   "id": "8697d52a",
   "metadata": {},
   "source": [
    "## Training a logistic regression model\n",
    "\n",
    "Logistic regression is a supervised machine learning process, where we try to classify a value. Logistic regression is used when your `y` variable can take only two values.\n",
    "\n",
    "Let's now begin to train our regression model! We will need to first split up our data into an `X` array that contains the features to train on, and a `y` array with the target variable, in this case the `output` column."
   ]
  },
  {
   "cell_type": "markdown",
   "id": "8e7a8078",
   "metadata": {},
   "source": [
    "1. Define the features `X` (the input features) and label `y` (the output feature)\n",
    "\n",
    "Hint: you can use the dataframe method `drop` with the `columns` keyword argument to remove a column from a dataframe"
   ]
  },
  {
   "cell_type": "code",
   "execution_count": 3,
   "id": "ee721a27",
   "metadata": {},
   "outputs": [],
   "source": [
    "X = df_heart.drop(columns = ['output'])\n",
    "y = df_heart['output']"
   ]
  },
  {
   "cell_type": "code",
   "execution_count": 4,
   "id": "80dae50f",
   "metadata": {},
   "outputs": [
    {
     "data": {
      "text/html": [
       "<div>\n",
       "<style scoped>\n",
       "    .dataframe tbody tr th:only-of-type {\n",
       "        vertical-align: middle;\n",
       "    }\n",
       "\n",
       "    .dataframe tbody tr th {\n",
       "        vertical-align: top;\n",
       "    }\n",
       "\n",
       "    .dataframe thead th {\n",
       "        text-align: right;\n",
       "    }\n",
       "</style>\n",
       "<table border=\"1\" class=\"dataframe\">\n",
       "  <thead>\n",
       "    <tr style=\"text-align: right;\">\n",
       "      <th></th>\n",
       "      <th>age</th>\n",
       "      <th>sex</th>\n",
       "      <th>cp</th>\n",
       "      <th>trtbps</th>\n",
       "      <th>chol</th>\n",
       "      <th>fbs</th>\n",
       "      <th>restecg</th>\n",
       "      <th>thalachh</th>\n",
       "      <th>exng</th>\n",
       "      <th>oldpeak</th>\n",
       "      <th>slp</th>\n",
       "      <th>caa</th>\n",
       "      <th>thall</th>\n",
       "    </tr>\n",
       "  </thead>\n",
       "  <tbody>\n",
       "    <tr>\n",
       "      <th>0</th>\n",
       "      <td>63</td>\n",
       "      <td>1</td>\n",
       "      <td>3</td>\n",
       "      <td>145</td>\n",
       "      <td>233</td>\n",
       "      <td>1</td>\n",
       "      <td>0</td>\n",
       "      <td>150</td>\n",
       "      <td>0</td>\n",
       "      <td>2.3</td>\n",
       "      <td>0</td>\n",
       "      <td>0</td>\n",
       "      <td>1</td>\n",
       "    </tr>\n",
       "    <tr>\n",
       "      <th>1</th>\n",
       "      <td>37</td>\n",
       "      <td>1</td>\n",
       "      <td>2</td>\n",
       "      <td>130</td>\n",
       "      <td>250</td>\n",
       "      <td>0</td>\n",
       "      <td>1</td>\n",
       "      <td>187</td>\n",
       "      <td>0</td>\n",
       "      <td>3.5</td>\n",
       "      <td>0</td>\n",
       "      <td>0</td>\n",
       "      <td>2</td>\n",
       "    </tr>\n",
       "    <tr>\n",
       "      <th>2</th>\n",
       "      <td>41</td>\n",
       "      <td>0</td>\n",
       "      <td>1</td>\n",
       "      <td>130</td>\n",
       "      <td>204</td>\n",
       "      <td>0</td>\n",
       "      <td>0</td>\n",
       "      <td>172</td>\n",
       "      <td>0</td>\n",
       "      <td>1.4</td>\n",
       "      <td>2</td>\n",
       "      <td>0</td>\n",
       "      <td>2</td>\n",
       "    </tr>\n",
       "    <tr>\n",
       "      <th>3</th>\n",
       "      <td>56</td>\n",
       "      <td>1</td>\n",
       "      <td>1</td>\n",
       "      <td>120</td>\n",
       "      <td>236</td>\n",
       "      <td>0</td>\n",
       "      <td>1</td>\n",
       "      <td>178</td>\n",
       "      <td>0</td>\n",
       "      <td>0.8</td>\n",
       "      <td>2</td>\n",
       "      <td>0</td>\n",
       "      <td>2</td>\n",
       "    </tr>\n",
       "    <tr>\n",
       "      <th>4</th>\n",
       "      <td>57</td>\n",
       "      <td>0</td>\n",
       "      <td>0</td>\n",
       "      <td>120</td>\n",
       "      <td>354</td>\n",
       "      <td>0</td>\n",
       "      <td>1</td>\n",
       "      <td>163</td>\n",
       "      <td>1</td>\n",
       "      <td>0.6</td>\n",
       "      <td>2</td>\n",
       "      <td>0</td>\n",
       "      <td>2</td>\n",
       "    </tr>\n",
       "    <tr>\n",
       "      <th>...</th>\n",
       "      <td>...</td>\n",
       "      <td>...</td>\n",
       "      <td>...</td>\n",
       "      <td>...</td>\n",
       "      <td>...</td>\n",
       "      <td>...</td>\n",
       "      <td>...</td>\n",
       "      <td>...</td>\n",
       "      <td>...</td>\n",
       "      <td>...</td>\n",
       "      <td>...</td>\n",
       "      <td>...</td>\n",
       "      <td>...</td>\n",
       "    </tr>\n",
       "    <tr>\n",
       "      <th>298</th>\n",
       "      <td>57</td>\n",
       "      <td>0</td>\n",
       "      <td>0</td>\n",
       "      <td>140</td>\n",
       "      <td>241</td>\n",
       "      <td>0</td>\n",
       "      <td>1</td>\n",
       "      <td>123</td>\n",
       "      <td>1</td>\n",
       "      <td>0.2</td>\n",
       "      <td>1</td>\n",
       "      <td>0</td>\n",
       "      <td>3</td>\n",
       "    </tr>\n",
       "    <tr>\n",
       "      <th>299</th>\n",
       "      <td>45</td>\n",
       "      <td>1</td>\n",
       "      <td>3</td>\n",
       "      <td>110</td>\n",
       "      <td>264</td>\n",
       "      <td>0</td>\n",
       "      <td>1</td>\n",
       "      <td>132</td>\n",
       "      <td>0</td>\n",
       "      <td>1.2</td>\n",
       "      <td>1</td>\n",
       "      <td>0</td>\n",
       "      <td>3</td>\n",
       "    </tr>\n",
       "    <tr>\n",
       "      <th>300</th>\n",
       "      <td>68</td>\n",
       "      <td>1</td>\n",
       "      <td>0</td>\n",
       "      <td>144</td>\n",
       "      <td>193</td>\n",
       "      <td>1</td>\n",
       "      <td>1</td>\n",
       "      <td>141</td>\n",
       "      <td>0</td>\n",
       "      <td>3.4</td>\n",
       "      <td>1</td>\n",
       "      <td>2</td>\n",
       "      <td>3</td>\n",
       "    </tr>\n",
       "    <tr>\n",
       "      <th>301</th>\n",
       "      <td>57</td>\n",
       "      <td>1</td>\n",
       "      <td>0</td>\n",
       "      <td>130</td>\n",
       "      <td>131</td>\n",
       "      <td>0</td>\n",
       "      <td>1</td>\n",
       "      <td>115</td>\n",
       "      <td>1</td>\n",
       "      <td>1.2</td>\n",
       "      <td>1</td>\n",
       "      <td>1</td>\n",
       "      <td>3</td>\n",
       "    </tr>\n",
       "    <tr>\n",
       "      <th>302</th>\n",
       "      <td>57</td>\n",
       "      <td>0</td>\n",
       "      <td>1</td>\n",
       "      <td>130</td>\n",
       "      <td>236</td>\n",
       "      <td>0</td>\n",
       "      <td>0</td>\n",
       "      <td>174</td>\n",
       "      <td>0</td>\n",
       "      <td>0.0</td>\n",
       "      <td>1</td>\n",
       "      <td>1</td>\n",
       "      <td>2</td>\n",
       "    </tr>\n",
       "  </tbody>\n",
       "</table>\n",
       "<p>303 rows × 13 columns</p>\n",
       "</div>"
      ],
      "text/plain": [
       "     age  sex  cp  trtbps  chol  fbs  restecg  thalachh  exng  oldpeak  slp  \\\n",
       "0     63    1   3     145   233    1        0       150     0      2.3    0   \n",
       "1     37    1   2     130   250    0        1       187     0      3.5    0   \n",
       "2     41    0   1     130   204    0        0       172     0      1.4    2   \n",
       "3     56    1   1     120   236    0        1       178     0      0.8    2   \n",
       "4     57    0   0     120   354    0        1       163     1      0.6    2   \n",
       "..   ...  ...  ..     ...   ...  ...      ...       ...   ...      ...  ...   \n",
       "298   57    0   0     140   241    0        1       123     1      0.2    1   \n",
       "299   45    1   3     110   264    0        1       132     0      1.2    1   \n",
       "300   68    1   0     144   193    1        1       141     0      3.4    1   \n",
       "301   57    1   0     130   131    0        1       115     1      1.2    1   \n",
       "302   57    0   1     130   236    0        0       174     0      0.0    1   \n",
       "\n",
       "     caa  thall  \n",
       "0      0      1  \n",
       "1      0      2  \n",
       "2      0      2  \n",
       "3      0      2  \n",
       "4      0      2  \n",
       "..   ...    ...  \n",
       "298    0      3  \n",
       "299    0      3  \n",
       "300    2      3  \n",
       "301    1      3  \n",
       "302    1      2  \n",
       "\n",
       "[303 rows x 13 columns]"
      ]
     },
     "execution_count": 4,
     "metadata": {},
     "output_type": "execute_result"
    }
   ],
   "source": [
    "X"
   ]
  },
  {
   "cell_type": "markdown",
   "id": "4a3e371e",
   "metadata": {},
   "source": [
    "## Train test split\n",
    "\n",
    "Next, we'll split the data into a training set and a testing set. We will train our model on the training set and then use the test set to evaluate the model."
   ]
  },
  {
   "cell_type": "markdown",
   "id": "0250f878",
   "metadata": {},
   "source": [
    "2. Generate the test and train datasets from your `X` and `y` data, with 20% of the data for testing"
   ]
  },
  {
   "cell_type": "code",
   "execution_count": 5,
   "id": "1255bde8",
   "metadata": {},
   "outputs": [
    {
     "name": "stdout",
     "output_type": "stream",
     "text": [
      "(242, 13)\n",
      "(61, 13)\n",
      "(242,)\n",
      "(61,)\n"
     ]
    }
   ],
   "source": [
    "from sklearn.model_selection import train_test_split\n",
    "\n",
    "X_train, X_test, y_train, y_test = train_test_split(X, y, test_size=0.2, random_state=1)\n",
    "\n",
    "print(X_train.shape)\n",
    "print(X_test.shape)\n",
    "\n",
    "\n",
    "print(y_train.shape)\n",
    "print(y_test.shape)"
   ]
  },
  {
   "cell_type": "code",
   "execution_count": 6,
   "id": "1f930747",
   "metadata": {},
   "outputs": [
    {
     "data": {
      "text/plain": [
       "204    0\n",
       "159    1\n",
       "219    0\n",
       "174    0\n",
       "184    0\n",
       "      ..\n",
       "0      1\n",
       "288    0\n",
       "259    0\n",
       "179    0\n",
       "110    1\n",
       "Name: output, Length: 61, dtype: int64"
      ]
     },
     "execution_count": 6,
     "metadata": {},
     "output_type": "execute_result"
    }
   ],
   "source": [
    "y_test"
   ]
  },
  {
   "cell_type": "markdown",
   "id": "da581e7c",
   "metadata": {},
   "source": [
    "## Standardising input data"
   ]
  },
  {
   "cell_type": "markdown",
   "id": "3ad44c33",
   "metadata": {},
   "source": [
    "3. Standardise all the input features"
   ]
  },
  {
   "cell_type": "code",
   "execution_count": 7,
   "id": "40b08bf6",
   "metadata": {},
   "outputs": [
    {
     "data": {
      "text/plain": [
       "array([[-0.27090572,  0.6636838 ,  1.9766492 , ..., -0.66896473,\n",
       "        -0.72428597, -2.11701865],\n",
       "       [ 1.3708101 , -1.50674161,  0.99843017, ...,  0.96628239,\n",
       "         0.27160724, -0.47497213],\n",
       "       [ 0.27633288,  0.6636838 ,  0.99843017, ...,  0.96628239,\n",
       "         0.27160724,  1.16707438],\n",
       "       ...,\n",
       "       [-2.78820331,  0.6636838 ,  0.02021114, ...,  0.96628239,\n",
       "        -0.72428597, -0.47497213],\n",
       "       [-0.38035344,  0.6636838 , -0.95800789, ...,  0.96628239,\n",
       "        -0.72428597,  1.16707438],\n",
       "       [-0.05201028,  0.6636838 ,  0.99843017, ...,  0.96628239,\n",
       "        -0.72428597,  1.16707438]])"
      ]
     },
     "execution_count": 7,
     "metadata": {},
     "output_type": "execute_result"
    }
   ],
   "source": [
    "scaler = StandardScaler() # we have instiated the object\n",
    "scaler = scaler.fit(X_train) # fit the scaler to our model, X\n",
    "\n",
    "data_standardised_train = scaler.transform(X_train)\n",
    "data_standardised_train"
   ]
  },
  {
   "cell_type": "code",
   "execution_count": 9,
   "id": "5072e02c",
   "metadata": {},
   "outputs": [
    {
     "data": {
      "text/plain": [
       "array([[ 0.9194768 , -1.33143805, -0.86574938,  1.52235455, -1.5417599 ,\n",
       "        -0.41602515, -0.92493962, -0.25525849, -0.75106762,  3.69304024,\n",
       "        -2.16628237,  2.0851727 ,  0.96629063],\n",
       "       [ 0.23547577,  0.75106762,  0.07729905, -0.14385886, -0.46790189,\n",
       "        -0.41602515, -0.92493962,  0.64018504, -0.75106762, -0.80087166,\n",
       "         1.01789171, -0.67994762,  0.96629063],\n",
       "       [-0.67652561,  0.75106762, -0.86574938, -0.14385886,  0.1914846 ,\n",
       "         2.40370085, -0.92493962, -0.00652418,  1.33143805, -0.80087166,\n",
       "         1.01789171,  1.16346593,  0.96629063],\n",
       "       [ 0.69147646,  0.75106762, -0.86574938, -0.14385886, -0.75049611,\n",
       "        -0.41602515, -0.92493962, -0.90196771,  1.33143805,  0.93870714,\n",
       "        -0.57419533,  1.16346593,  0.96629063],\n",
       "       [-0.44852527,  0.75106762, -0.86574938,  0.96695008, -0.05343038,\n",
       "        -0.41602515, -0.92493962, -1.10095516, -0.75106762,  1.08367204,\n",
       "        -0.57419533, -0.67994762,  0.96629063],\n",
       "       [ 1.03347698,  0.75106762, -0.86574938,  0.41154561, -1.10844877,\n",
       "        -0.41602515, -0.92493962, -0.30500536,  1.33143805,  2.09842634,\n",
       "         1.01789171,  1.16346593,  0.96629063],\n",
       "       [ 0.23547577,  0.75106762, -0.86574938, -0.14385886,  0.70015419,\n",
       "         2.40370085, -0.92493962, -2.34462673,  1.33143805,  0.35884754,\n",
       "        -2.16628237, -0.67994762,  0.96629063],\n",
       "       [-0.90452596, -1.33143805, -0.86574938,  0.30046471, -0.05343038,\n",
       "        -0.41602515, -0.92493962,  0.09296955,  1.33143805, -0.80087166,\n",
       "        -0.57419533, -0.67994762, -0.67103516],\n",
       "       [ 0.69147646,  0.75106762, -0.86574938,  0.68924784,  0.68131457,\n",
       "        -0.41602515, -0.92493962, -0.40449908,  1.33143805,  1.22863694,\n",
       "        -0.57419533,  1.16346593,  0.96629063],\n",
       "       [-1.70252717, -1.33143805,  1.02034748,  0.30046471, -0.48674151,\n",
       "        -0.41602515,  0.95577094,  0.09296955, -0.75106762, -0.80087166,\n",
       "        -0.57419533, -0.67994762, -0.67103516],\n",
       "       [ 1.37547749,  0.75106762, -0.86574938, -0.69926333,  1.05810685,\n",
       "        -0.41602515, -0.92493962,  0.04322268, -0.75106762, -0.51094186,\n",
       "        -0.57419533, -0.67994762, -0.67103516],\n",
       "       [ 1.71747801,  0.75106762,  1.02034748,  0.41154561,  0.15380537,\n",
       "        -0.41602515, -0.92493962, -0.20551163, -0.75106762,  0.64877734,\n",
       "        -0.57419533,  2.0851727 ,  0.96629063],\n",
       "       [ 0.46347611, -1.33143805,  0.07729905,  0.18938382,  1.3783803 ,\n",
       "         2.40370085, -0.92493962,  0.09296955, -0.75106762, -0.80087166,\n",
       "         1.01789171,  1.16346593, -0.67103516],\n",
       "       [ 1.14747715,  0.75106762,  1.02034748, -0.4215611 ,  1.18998415,\n",
       "        -0.41602515,  0.95577094, -0.95171457,  1.33143805,  0.50381244,\n",
       "        -0.57419533, -0.67994762,  0.96629063],\n",
       "       [-0.56252544,  0.75106762,  1.02034748, -0.69926333, -1.08960916,\n",
       "        -0.41602515,  0.95577094, -0.55373967, -0.75106762,  0.64877734,\n",
       "        -0.57419533,  2.0851727 ,  0.96629063],\n",
       "       [ 0.34947594, -1.33143805,  0.07729905, -0.14385886, -0.18530768,\n",
       "        -0.41602515, -0.92493962,  1.18740053, -0.75106762, -0.80087166,\n",
       "        -0.57419533,  0.24175915, -0.67103516],\n",
       "       [-2.27252803,  0.75106762,  1.96339591, -0.81034423, -1.20264684,\n",
       "        -0.41602515, -0.92493962,  1.18740053, -0.75106762, -0.80087166,\n",
       "         1.01789171, -0.67994762, -0.67103516],\n",
       "       [ 1.03347698, -1.33143805, -0.86574938,  0.96695008,  3.03626634,\n",
       "        -0.41602515, -0.92493962,  0.19246327, -0.75106762,  2.09842634,\n",
       "        -0.57419533,  2.0851727 ,  0.96629063],\n",
       "       [-1.24652648,  0.75106762, -0.86574938,  0.96695008,  0.02192808,\n",
       "        -0.41602515,  0.95577094,  1.03815994, -0.75106762,  0.28636509,\n",
       "         1.01789171, -0.67994762, -0.67103516],\n",
       "       [ 0.57747628,  0.75106762,  1.96339591,  2.07775902,  0.79435226,\n",
       "        -0.41602515, -0.92493962,  0.44119759, -0.75106762, -0.65590676,\n",
       "        -0.57419533, -0.67994762,  0.96629063],\n",
       "       [-0.67652561, -1.33143805,  1.02034748, -0.14385886,  0.54943727,\n",
       "        -0.41602515,  0.95577094, -0.55373967, -0.75106762, -0.65590676,\n",
       "         1.01789171, -0.67994762, -0.67103516],\n",
       "       [ 1.60347784,  0.75106762, -0.86574938,  0.6337074 , -0.99541109,\n",
       "         2.40370085,  0.95577094, -0.45424594, -0.75106762,  1.66353164,\n",
       "        -0.57419533,  1.16346593,  0.96629063],\n",
       "       [ 0.00747542,  0.75106762,  1.02034748, -0.69926333,  0.22916383,\n",
       "        -0.41602515, -0.92493962, -0.15576477, -0.75106762, -0.51094186,\n",
       "        -0.57419533, -0.67994762,  0.96629063],\n",
       "       [-1.13252631, -1.33143805,  1.02034748, -0.81034423, -0.07227   ,\n",
       "        -0.41602515,  0.95577094, -0.05627104, -0.75106762, -0.58342431,\n",
       "        -0.57419533,  0.24175915, -0.67103516],\n",
       "       [-1.47452682, -1.33143805,  1.02034748, -1.14358691,  0.41755997,\n",
       "        -0.41602515, -0.92493962,  1.0879068 ,  1.33143805, -0.80087166,\n",
       "         1.01789171, -0.67994762, -0.67103516],\n",
       "       [-1.81652734,  0.75106762,  1.02034748,  0.30046471, -1.33452414,\n",
       "        -0.41602515,  0.95577094,  1.13765367, -0.75106762, -0.80087166,\n",
       "         1.01789171,  3.00687948, -0.67103516],\n",
       "       [ 0.46347611,  0.75106762, -0.86574938, -0.25493976, -0.56209996,\n",
       "        -0.41602515, -0.92493962, -0.95171457,  1.33143805,  0.79374224,\n",
       "        -0.57419533,  2.0851727 ,  0.96629063],\n",
       "       [-1.47452682,  0.75106762,  1.02034748, -1.14358691,  0.07844692,\n",
       "        -0.41602515,  0.95577094,  1.43613484, -0.75106762, -0.80087166,\n",
       "         1.01789171, -0.67994762, -0.67103516],\n",
       "       [-0.3345251 ,  0.75106762,  1.02034748, -1.25466781, -1.33452414,\n",
       "        -0.41602515,  0.95577094, -1.34968948, -0.75106762, -0.36597696,\n",
       "         1.01789171, -0.67994762, -0.67103516],\n",
       "       [ 0.00747542, -1.33143805,  1.02034748, -1.3657487 ,  0.39872036,\n",
       "        -0.41602515, -0.92493962,  0.83917249, -0.75106762, -0.80087166,\n",
       "         1.01789171, -0.67994762, -0.67103516],\n",
       "       [-2.15852786,  0.75106762,  0.07729905, -0.58818244, -1.0142507 ,\n",
       "        -0.41602515,  0.95577094,  1.18740053, -0.75106762, -0.80087166,\n",
       "         1.01789171, -0.67994762, -0.67103516],\n",
       "       [-0.56252544,  0.75106762,  0.07729905, -0.14385886,  0.37988074,\n",
       "        -0.41602515,  0.95577094,  1.03815994, -0.75106762, -0.36597696,\n",
       "         1.01789171, -0.67994762, -0.67103516],\n",
       "       [-0.10652475,  0.75106762,  1.02034748, -0.14385886, -0.92005263,\n",
       "         2.40370085, -0.92493962,  0.09296955, -0.75106762,  0.06891774,\n",
       "        -2.16628237, -0.67994762, -0.67103516],\n",
       "       [ 0.34947594, -1.33143805, -0.86574938, -0.25493976,  1.07694647,\n",
       "        -0.41602515, -0.92493962,  0.44119759, -0.75106762, -0.80087166,\n",
       "         1.01789171,  0.24175915, -0.67103516],\n",
       "       [-0.44852527,  0.75106762, -0.86574938,  0.6337074 , -0.86353379,\n",
       "        -0.41602515, -0.92493962, -1.20044889,  1.33143805, -0.14852961,\n",
       "        -0.57419533, -0.67994762,  0.96629063],\n",
       "       [-0.3345251 ,  0.75106762, -0.86574938,  0.41154561,  0.28568267,\n",
       "        -0.41602515, -0.92493962,  1.78436288,  1.33143805, -0.80087166,\n",
       "         1.01789171, -0.67994762, -0.67103516],\n",
       "       [ 1.37547749,  0.75106762, -0.86574938,  1.52235455, -0.33602459,\n",
       "        -0.41602515, -0.92493962, -0.60348653, -0.75106762,  0.86622469,\n",
       "         1.01789171, -0.67994762, -2.30836095],\n",
       "       [ 1.48947767,  0.75106762, -0.86574938, -0.4215611 ,  0.15380537,\n",
       "         2.40370085,  0.95577094,  0.64018504, -0.75106762, -0.65590676,\n",
       "        -0.57419533,  1.16346593,  0.96629063],\n",
       "       [-1.47452682,  0.75106762, -0.86574938, -1.25466781, -1.39104299,\n",
       "        -0.41602515, -0.92493962,  0.39145072, -0.75106762, -0.80087166,\n",
       "         1.01789171, -0.67994762,  0.96629063],\n",
       "       [-0.10652475,  0.75106762, -0.86574938,  0.5226265 , -0.37370382,\n",
       "        -0.41602515, -0.92493962, -1.94665183,  1.33143805, -0.80087166,\n",
       "         1.01789171, -0.67994762,  0.96629063],\n",
       "       [ 1.03347698, -1.33143805,  0.07729905,  0.41154561, -0.95773186,\n",
       "        -0.41602515,  0.95577094,  1.43613484, -0.75106762, -0.80087166,\n",
       "         1.01789171,  1.16346593, -0.67103516],\n",
       "       [ 0.34947594,  0.75106762, -0.86574938, -0.14385886, -2.16346717,\n",
       "        -0.41602515,  0.95577094, -1.74766438,  1.33143805,  0.06891774,\n",
       "        -0.57419533,  0.24175915,  0.96629063],\n",
       "       [ 0.34947594,  0.75106762, -0.86574938, -1.25466781, -0.84469418,\n",
       "        -0.41602515,  0.95577094, -1.20044889,  1.33143805,  0.28636509,\n",
       "        -0.57419533, -0.67994762, -2.30836095],\n",
       "       [ 0.23547577, -1.33143805, -0.86574938,  3.74397244,  0.79435226,\n",
       "         2.40370085, -0.92493962, -0.85222085,  1.33143805,  2.09842634,\n",
       "        -2.16628237,  1.16346593,  0.96629063],\n",
       "       [ 1.03347698, -1.33143805, -0.86574938, -0.47710155, -0.92005263,\n",
       "        -0.41602515,  0.95577094, -0.70298026,  1.33143805, -0.80087166,\n",
       "        -0.57419533, -0.67994762, -0.67103516],\n",
       "       [ 0.80547663, -1.33143805, -0.86574938, -0.14385886,  1.58561605,\n",
       "        -0.41602515, -0.92493962,  0.93866622, -0.75106762, -0.80087166,\n",
       "         1.01789171, -0.67994762, -0.67103516],\n",
       "       [ 0.12147559, -1.33143805, -0.86574938, -0.25493976, -0.76933572,\n",
       "        -0.41602515,  2.83648151, -1.00146144,  1.33143805,  0.64877734,\n",
       "        -0.57419533,  0.24175915,  0.96629063],\n",
       "       [ 0.34947594, -1.33143805, -0.86574938, -0.69926333,  2.03776679,\n",
       "        -0.41602515,  0.95577094,  0.64018504,  1.33143805, -0.36597696,\n",
       "         1.01789171, -0.67994762, -0.67103516],\n",
       "       [-1.588527  ,  0.75106762, -0.86574938,  1.07803097, -0.43022266,\n",
       "        -0.41602515,  0.95577094,  1.53562857, -0.75106762, -0.80087166,\n",
       "         1.01789171, -0.67994762,  0.96629063],\n",
       "       [ 1.14747715, -1.33143805,  1.02034748,  0.41154561,  1.26534261,\n",
       "        -0.41602515,  0.95577094, -0.85222085, -0.75106762, -0.65590676,\n",
       "         1.01789171, -0.67994762,  0.96629063],\n",
       "       [-0.22052492,  0.75106762,  0.07729905, -0.25493976, -0.76933572,\n",
       "         2.40370085,  0.95577094,  1.68486916, -0.75106762, -0.80087166,\n",
       "         1.01789171, -0.67994762, -0.67103516],\n",
       "       [-0.44852527,  0.75106762,  1.02034748,  0.41154561, -0.24182652,\n",
       "        -0.41602515,  0.95577094,  0.64018504, -0.75106762, -0.36597696,\n",
       "        -0.57419533,  0.24175915,  0.96629063],\n",
       "       [-1.01852613,  0.75106762,  1.96339591, -1.25466781,  0.34220152,\n",
       "        -0.41602515,  0.95577094, -0.90196771, -0.75106762,  0.06891774,\n",
       "        -0.57419533, -0.67994762,  0.96629063],\n",
       "       [ 0.46347611, -1.33143805, -0.86574938, -1.81007228,  0.04076769,\n",
       "        -0.41602515, -0.92493962, -1.39943634, -0.75106762, -0.07604716,\n",
       "        -0.57419533, -0.67994762, -0.67103516],\n",
       "       [ 0.46347611, -1.33143805,  1.02034748, -0.69926333,  1.77401219,\n",
       "        -0.41602515,  0.95577094,  1.0879068 , -0.75106762, -0.80087166,\n",
       "         1.01789171, -0.67994762, -0.67103516],\n",
       "       [ 0.00747542, -1.33143805,  1.02034748, -1.25466781, -0.59977919,\n",
       "        -0.41602515,  0.95577094,  0.39145072, -0.75106762,  0.35884754,\n",
       "        -0.57419533, -0.67994762, -0.67103516],\n",
       "       [ 1.03347698,  0.75106762,  1.96339591,  0.68924784, -0.24182652,\n",
       "         2.40370085, -0.92493962, -0.00652418, -0.75106762,  0.86622469,\n",
       "        -2.16628237, -0.67994762, -2.30836095],\n",
       "       [ 0.34947594,  0.75106762, -0.86574938, -1.25466781,  1.67981412,\n",
       "        -0.41602515,  0.95577094, -0.35475222,  1.33143805,  1.37360184,\n",
       "        -0.57419533,  0.24175915,  0.96629063],\n",
       "       [-1.81652734,  0.75106762,  1.96339591, -0.69926333, -0.27950575,\n",
       "        -0.41602515,  0.95577094,  1.58537543,  1.33143805,  1.95346144,\n",
       "        -0.57419533, -0.67994762,  0.96629063],\n",
       "       [ 0.34947594,  0.75106762, -0.86574938,  0.96695008,  0.56827689,\n",
       "        -0.41602515, -0.92493962, -1.89690497,  1.33143805, -0.36597696,\n",
       "        -0.57419533,  0.24175915, -2.30836095],\n",
       "       [ 1.14747715, -1.33143805, -0.86574938,  2.63316349,  1.49141798,\n",
       "        -0.41602515,  0.95577094,  0.19246327,  1.33143805, -0.80087166,\n",
       "         1.01789171, -0.67994762, -0.67103516]])"
      ]
     },
     "execution_count": 9,
     "metadata": {},
     "output_type": "execute_result"
    }
   ],
   "source": [
    "scaler = scaler.fit(X_test) # fit the scaler to our model, X\n",
    "\n",
    "data_standardised_test = scaler.transform(X_test)\n",
    "data_standardised_test"
   ]
  },
  {
   "cell_type": "markdown",
   "id": "8cc02441",
   "metadata": {},
   "source": [
    "## Creating and training the model"
   ]
  },
  {
   "cell_type": "markdown",
   "id": "0407d074",
   "metadata": {},
   "source": [
    "4a. Initalise the logistic regression model"
   ]
  },
  {
   "cell_type": "code",
   "execution_count": 10,
   "id": "18821b24",
   "metadata": {},
   "outputs": [],
   "source": [
    "lm = LogisticRegression()"
   ]
  },
  {
   "cell_type": "markdown",
   "id": "9fe1253b",
   "metadata": {},
   "source": [
    "4b. Train the model with your training data"
   ]
  },
  {
   "cell_type": "code",
   "execution_count": 12,
   "id": "8e816334",
   "metadata": {},
   "outputs": [
    {
     "data": {
      "text/html": [
       "<style>#sk-container-id-1 {color: black;background-color: white;}#sk-container-id-1 pre{padding: 0;}#sk-container-id-1 div.sk-toggleable {background-color: white;}#sk-container-id-1 label.sk-toggleable__label {cursor: pointer;display: block;width: 100%;margin-bottom: 0;padding: 0.3em;box-sizing: border-box;text-align: center;}#sk-container-id-1 label.sk-toggleable__label-arrow:before {content: \"▸\";float: left;margin-right: 0.25em;color: #696969;}#sk-container-id-1 label.sk-toggleable__label-arrow:hover:before {color: black;}#sk-container-id-1 div.sk-estimator:hover label.sk-toggleable__label-arrow:before {color: black;}#sk-container-id-1 div.sk-toggleable__content {max-height: 0;max-width: 0;overflow: hidden;text-align: left;background-color: #f0f8ff;}#sk-container-id-1 div.sk-toggleable__content pre {margin: 0.2em;color: black;border-radius: 0.25em;background-color: #f0f8ff;}#sk-container-id-1 input.sk-toggleable__control:checked~div.sk-toggleable__content {max-height: 200px;max-width: 100%;overflow: auto;}#sk-container-id-1 input.sk-toggleable__control:checked~label.sk-toggleable__label-arrow:before {content: \"▾\";}#sk-container-id-1 div.sk-estimator input.sk-toggleable__control:checked~label.sk-toggleable__label {background-color: #d4ebff;}#sk-container-id-1 div.sk-label input.sk-toggleable__control:checked~label.sk-toggleable__label {background-color: #d4ebff;}#sk-container-id-1 input.sk-hidden--visually {border: 0;clip: rect(1px 1px 1px 1px);clip: rect(1px, 1px, 1px, 1px);height: 1px;margin: -1px;overflow: hidden;padding: 0;position: absolute;width: 1px;}#sk-container-id-1 div.sk-estimator {font-family: monospace;background-color: #f0f8ff;border: 1px dotted black;border-radius: 0.25em;box-sizing: border-box;margin-bottom: 0.5em;}#sk-container-id-1 div.sk-estimator:hover {background-color: #d4ebff;}#sk-container-id-1 div.sk-parallel-item::after {content: \"\";width: 100%;border-bottom: 1px solid gray;flex-grow: 1;}#sk-container-id-1 div.sk-label:hover label.sk-toggleable__label {background-color: #d4ebff;}#sk-container-id-1 div.sk-serial::before {content: \"\";position: absolute;border-left: 1px solid gray;box-sizing: border-box;top: 0;bottom: 0;left: 50%;z-index: 0;}#sk-container-id-1 div.sk-serial {display: flex;flex-direction: column;align-items: center;background-color: white;padding-right: 0.2em;padding-left: 0.2em;position: relative;}#sk-container-id-1 div.sk-item {position: relative;z-index: 1;}#sk-container-id-1 div.sk-parallel {display: flex;align-items: stretch;justify-content: center;background-color: white;position: relative;}#sk-container-id-1 div.sk-item::before, #sk-container-id-1 div.sk-parallel-item::before {content: \"\";position: absolute;border-left: 1px solid gray;box-sizing: border-box;top: 0;bottom: 0;left: 50%;z-index: -1;}#sk-container-id-1 div.sk-parallel-item {display: flex;flex-direction: column;z-index: 1;position: relative;background-color: white;}#sk-container-id-1 div.sk-parallel-item:first-child::after {align-self: flex-end;width: 50%;}#sk-container-id-1 div.sk-parallel-item:last-child::after {align-self: flex-start;width: 50%;}#sk-container-id-1 div.sk-parallel-item:only-child::after {width: 0;}#sk-container-id-1 div.sk-dashed-wrapped {border: 1px dashed gray;margin: 0 0.4em 0.5em 0.4em;box-sizing: border-box;padding-bottom: 0.4em;background-color: white;}#sk-container-id-1 div.sk-label label {font-family: monospace;font-weight: bold;display: inline-block;line-height: 1.2em;}#sk-container-id-1 div.sk-label-container {text-align: center;}#sk-container-id-1 div.sk-container {/* jupyter's `normalize.less` sets `[hidden] { display: none; }` but bootstrap.min.css set `[hidden] { display: none !important; }` so we also need the `!important` here to be able to override the default hidden behavior on the sphinx rendered scikit-learn.org. See: https://github.com/scikit-learn/scikit-learn/issues/21755 */display: inline-block !important;position: relative;}#sk-container-id-1 div.sk-text-repr-fallback {display: none;}</style><div id=\"sk-container-id-1\" class=\"sk-top-container\"><div class=\"sk-text-repr-fallback\"><pre>LogisticRegression()</pre><b>In a Jupyter environment, please rerun this cell to show the HTML representation or trust the notebook. <br />On GitHub, the HTML representation is unable to render, please try loading this page with nbviewer.org.</b></div><div class=\"sk-container\" hidden><div class=\"sk-item\"><div class=\"sk-estimator sk-toggleable\"><input class=\"sk-toggleable__control sk-hidden--visually\" id=\"sk-estimator-id-1\" type=\"checkbox\" checked><label for=\"sk-estimator-id-1\" class=\"sk-toggleable__label sk-toggleable__label-arrow\">LogisticRegression</label><div class=\"sk-toggleable__content\"><pre>LogisticRegression()</pre></div></div></div></div></div>"
      ],
      "text/plain": [
       "LogisticRegression()"
      ]
     },
     "execution_count": 12,
     "metadata": {},
     "output_type": "execute_result"
    }
   ],
   "source": [
    "lm.fit(data_standardised_train, y_train)"
   ]
  },
  {
   "cell_type": "markdown",
   "id": "698dc887",
   "metadata": {},
   "source": [
    "## Model prediction"
   ]
  },
  {
   "cell_type": "markdown",
   "id": "5378c8b0",
   "metadata": {},
   "source": [
    "5. Get the predictions of your model for the test data"
   ]
  },
  {
   "cell_type": "code",
   "execution_count": 13,
   "id": "7a85be69",
   "metadata": {},
   "outputs": [],
   "source": [
    "predictions = lm.predict(data_standardised_test)"
   ]
  },
  {
   "cell_type": "markdown",
   "id": "f4949e08",
   "metadata": {},
   "source": [
    "## Model evaluation"
   ]
  },
  {
   "cell_type": "markdown",
   "id": "423ee630",
   "metadata": {},
   "source": [
    "6a. Display the model score. What does this result mean?"
   ]
  },
  {
   "cell_type": "code",
   "execution_count": 14,
   "id": "82007e40",
   "metadata": {},
   "outputs": [
    {
     "name": "stdout",
     "output_type": "stream",
     "text": [
      "0.7540983606557377\n"
     ]
    }
   ],
   "source": [
    "print(lm.score(data_standardised_test, y_test))"
   ]
  },
  {
   "cell_type": "markdown",
   "id": "580f0133",
   "metadata": {},
   "source": [
    "Note:\n",
    "    \n",
    "model. score automates the prediction of your data using X_test and compares it with Y_test and by \n",
    "default uses the R-squared metric to so (hence don't need to manually derive y_pred ).\n",
    "\n",
    "what is the good score for a model?\n",
    "A higher model score generally indicates better performance, with 1 being the best possible score and 0 being the worst."
   ]
  },
  {
   "cell_type": "markdown",
   "id": "3312d9ae",
   "metadata": {},
   "source": [
    "6b. Plot a confusion matrix for your model and interpret the results. What implications might your model performance have?"
   ]
  },
  {
   "cell_type": "code",
   "execution_count": 15,
   "id": "46a4127f",
   "metadata": {},
   "outputs": [
    {
     "data": {
      "image/png": "[encoded data removed]",
      "text/plain": [
       "<Figure size 640x480 with 2 Axes>"
      ]
     },
     "metadata": {},
     "output_type": "display_data"
    }
   ],
   "source": [
    "from sklearn.metrics import ConfusionMatrixDisplay\n",
    "import matplotlib.pyplot as plt\n",
    "\n",
    "ConfusionMatrixDisplay.from_predictions(y_test, predictions)\n",
    "plt.show()\n"
   ]
  },
  {
   "cell_type": "code",
   "execution_count": 35,
   "id": "dd1e870a",
   "metadata": {},
   "outputs": [
    {
     "data": {
      "text/plain": [
       "0.7540983606557377"
      ]
     },
     "execution_count": 35,
     "metadata": {},
     "output_type": "execute_result"
    }
   ],
   "source": [
    "# \n",
    "(20+26)/(20+5+26+10)"
   ]
  },
  {
   "cell_type": "code",
   "execution_count": 36,
   "id": "b9838545",
   "metadata": {},
   "outputs": [
    {
     "data": {
      "text/plain": [
       "0.16393442622950818"
      ]
     },
     "execution_count": 36,
     "metadata": {},
     "output_type": "execute_result"
    }
   ],
   "source": [
    "#(TP+TN)/(TP+FN+TN+FP)\n",
    "# false positive\n",
    "10/(20+5+26+10)"
   ]
  },
  {
   "cell_type": "code",
   "execution_count": null,
   "id": "c10b9a68",
   "metadata": {},
   "outputs": [],
   "source": []
  }
 ],
 "metadata": {
  "kernelspec": {
   "display_name": "Python 3 (ipykernel)",
   "language": "python",
   "name": "python3"
  },
  "language_info": {
   "codemirror_mode": {
    "name": "ipython",
    "version": 3
   },
   "file_extension": ".py",
   "mimetype": "text/x-python",
   "name": "python",
   "nbconvert_exporter": "python",
   "pygments_lexer": "ipython3",
   "version": "3.10.10"
  }
 },
 "nbformat": 4,
 "nbformat_minor": 5
}
