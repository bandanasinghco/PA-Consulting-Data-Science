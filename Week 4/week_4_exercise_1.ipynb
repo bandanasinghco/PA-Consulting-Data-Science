{
 "cells": [
  {
   "cell_type": "markdown",
   "id": "1fd8d11d",
   "metadata": {},
   "source": [
    "# Exercises 4.1: loading and exploring the data\n",
    "\n",
    "### PA Women in Tech: Intro to Data Science with Python\n",
    "\n",
    "In these exercises we will look at **loading and exploring** a dataset, which we will later use for a logistic regression model. We will:\n",
    "- load in a dataset\n",
    "- explore the dataset\n",
    "- visualise the dataset\n",
    "\n",
    "First, we import the pandas and seaborn libraries and necessary sklearn objects"
   ]
  },
  {
   "cell_type": "code",
   "execution_count": 2,
   "id": "b235063e",
   "metadata": {},
   "outputs": [],
   "source": [
    "import seaborn as sns\n",
    "import pandas as pd"
   ]
  },
  {
   "cell_type": "markdown",
   "id": "353ec029",
   "metadata": {},
   "source": [
    "## Data loading"
   ]
  },
  {
   "cell_type": "markdown",
   "id": "1a4d8218",
   "metadata": {},
   "source": [
    "In these exercises we'll be looking at a dataset which contains information on patients and their risk of having heart disease. It can be used to predict whether patients are at risk or not based on other attributes.\n",
    "\n",
    "1a. Load the `heart.csv` dataset into a dataframe called `df_heart`"
   ]
  },
  {
   "cell_type": "code",
   "execution_count": 3,
   "id": "8a58db43",
   "metadata": {},
   "outputs": [],
   "source": [
    "df_heart = pd.read_csv(\"heart.csv\")"
   ]
  },
  {
   "cell_type": "markdown",
   "id": "b65b17fb",
   "metadata": {},
   "source": [
    "1b. Display the shape of the data"
   ]
  },
  {
   "cell_type": "code",
   "execution_count": 4,
   "id": "d52639d1",
   "metadata": {},
   "outputs": [
    {
     "data": {
      "text/plain": [
       "(303, 14)"
      ]
     },
     "execution_count": 4,
     "metadata": {},
     "output_type": "execute_result"
    }
   ],
   "source": [
    "df_heart.shape"
   ]
  },
  {
   "cell_type": "markdown",
   "id": "570aeeb9",
   "metadata": {},
   "source": [
    "1c. Detail the columns types of the data"
   ]
  },
  {
   "cell_type": "code",
   "execution_count": 5,
   "id": "498a3e0e",
   "metadata": {},
   "outputs": [
    {
     "data": {
      "text/plain": [
       "Index(['age', 'sex', 'cp', 'trtbps', 'chol', 'fbs', 'restecg', 'thalachh',\n",
       "       'exng', 'oldpeak', 'slp', 'caa', 'thall', 'output'],\n",
       "      dtype='object')"
      ]
     },
     "execution_count": 5,
     "metadata": {},
     "output_type": "execute_result"
    }
   ],
   "source": [
    "df_heart.columns"
   ]
  },
  {
   "cell_type": "markdown",
   "id": "82998e8b",
   "metadata": {},
   "source": [
    "1d. Display the first five rows of the data"
   ]
  },
  {
   "cell_type": "code",
   "execution_count": 6,
   "id": "2bf3aab2",
   "metadata": {},
   "outputs": [
    {
     "data": {
      "text/html": [
       "<div>\n",
       "<style scoped>\n",
       "    .dataframe tbody tr th:only-of-type {\n",
       "        vertical-align: middle;\n",
       "    }\n",
       "\n",
       "    .dataframe tbody tr th {\n",
       "        vertical-align: top;\n",
       "    }\n",
       "\n",
       "    .dataframe thead th {\n",
       "        text-align: right;\n",
       "    }\n",
       "</style>\n",
       "<table border=\"1\" class=\"dataframe\">\n",
       "  <thead>\n",
       "    <tr style=\"text-align: right;\">\n",
       "      <th></th>\n",
       "      <th>age</th>\n",
       "      <th>sex</th>\n",
       "      <th>cp</th>\n",
       "      <th>trtbps</th>\n",
       "      <th>chol</th>\n",
       "      <th>fbs</th>\n",
       "      <th>restecg</th>\n",
       "      <th>thalachh</th>\n",
       "      <th>exng</th>\n",
       "      <th>oldpeak</th>\n",
       "      <th>slp</th>\n",
       "      <th>caa</th>\n",
       "      <th>thall</th>\n",
       "      <th>output</th>\n",
       "    </tr>\n",
       "  </thead>\n",
       "  <tbody>\n",
       "    <tr>\n",
       "      <th>0</th>\n",
       "      <td>63</td>\n",
       "      <td>1</td>\n",
       "      <td>3</td>\n",
       "      <td>145</td>\n",
       "      <td>233</td>\n",
       "      <td>1</td>\n",
       "      <td>0</td>\n",
       "      <td>150</td>\n",
       "      <td>0</td>\n",
       "      <td>2.3</td>\n",
       "      <td>0</td>\n",
       "      <td>0</td>\n",
       "      <td>1</td>\n",
       "      <td>1</td>\n",
       "    </tr>\n",
       "    <tr>\n",
       "      <th>1</th>\n",
       "      <td>37</td>\n",
       "      <td>1</td>\n",
       "      <td>2</td>\n",
       "      <td>130</td>\n",
       "      <td>250</td>\n",
       "      <td>0</td>\n",
       "      <td>1</td>\n",
       "      <td>187</td>\n",
       "      <td>0</td>\n",
       "      <td>3.5</td>\n",
       "      <td>0</td>\n",
       "      <td>0</td>\n",
       "      <td>2</td>\n",
       "      <td>1</td>\n",
       "    </tr>\n",
       "    <tr>\n",
       "      <th>2</th>\n",
       "      <td>41</td>\n",
       "      <td>0</td>\n",
       "      <td>1</td>\n",
       "      <td>130</td>\n",
       "      <td>204</td>\n",
       "      <td>0</td>\n",
       "      <td>0</td>\n",
       "      <td>172</td>\n",
       "      <td>0</td>\n",
       "      <td>1.4</td>\n",
       "      <td>2</td>\n",
       "      <td>0</td>\n",
       "      <td>2</td>\n",
       "      <td>1</td>\n",
       "    </tr>\n",
       "    <tr>\n",
       "      <th>3</th>\n",
       "      <td>56</td>\n",
       "      <td>1</td>\n",
       "      <td>1</td>\n",
       "      <td>120</td>\n",
       "      <td>236</td>\n",
       "      <td>0</td>\n",
       "      <td>1</td>\n",
       "      <td>178</td>\n",
       "      <td>0</td>\n",
       "      <td>0.8</td>\n",
       "      <td>2</td>\n",
       "      <td>0</td>\n",
       "      <td>2</td>\n",
       "      <td>1</td>\n",
       "    </tr>\n",
       "    <tr>\n",
       "      <th>4</th>\n",
       "      <td>57</td>\n",
       "      <td>0</td>\n",
       "      <td>0</td>\n",
       "      <td>120</td>\n",
       "      <td>354</td>\n",
       "      <td>0</td>\n",
       "      <td>1</td>\n",
       "      <td>163</td>\n",
       "      <td>1</td>\n",
       "      <td>0.6</td>\n",
       "      <td>2</td>\n",
       "      <td>0</td>\n",
       "      <td>2</td>\n",
       "      <td>1</td>\n",
       "    </tr>\n",
       "  </tbody>\n",
       "</table>\n",
       "</div>"
      ],
      "text/plain": [
       "   age  sex  cp  trtbps  chol  fbs  restecg  thalachh  exng  oldpeak  slp  \\\n",
       "0   63    1   3     145   233    1        0       150     0      2.3    0   \n",
       "1   37    1   2     130   250    0        1       187     0      3.5    0   \n",
       "2   41    0   1     130   204    0        0       172     0      1.4    2   \n",
       "3   56    1   1     120   236    0        1       178     0      0.8    2   \n",
       "4   57    0   0     120   354    0        1       163     1      0.6    2   \n",
       "\n",
       "   caa  thall  output  \n",
       "0    0      1       1  \n",
       "1    0      2       1  \n",
       "2    0      2       1  \n",
       "3    0      2       1  \n",
       "4    0      2       1  "
      ]
     },
     "execution_count": 6,
     "metadata": {},
     "output_type": "execute_result"
    }
   ],
   "source": [
    "df_heart.head()"
   ]
  },
  {
   "cell_type": "markdown",
   "id": "6e7cf40c",
   "metadata": {},
   "source": [
    "Column descriptions:\n",
    "\n",
    "* age\n",
    "* sex: (1 = female; 0 = male)\n",
    "* cp: Chest pain type (1: typical angina, 2: atypical angina, 3: non-anginal pain, 4: asymptomatic)\n",
    "* trtbps: resting blood pressure (in mm Hg)\n",
    "* chol: cholesterol in mg/dl fetched via BMI sensor\n",
    "* fbs: (fasting blood sugar > 120 mg/dl) (1 = true; 0 = false)\n",
    "* rest_ecg: resting electrocardiographic results (0: normal, 1: having ST-T wave abnormality)\n",
    "* thalachh: maximum heart rate achieved\n",
    "* exng: exercise induced angina (1 = yes; 0 = no)\n",
    "* oldpeak: ST depression induced by exercise relative to rest\n",
    "* slp: the slope of the peak exercise ST segment\n",
    "* caa: number of major vessels (0-3)\n",
    "* thall: thalassemia (1: normal, 2: fixed defect, 3: reversable defect)\n",
    "* output: diagnosis of heart disease, 0 = less chance, 1 = more chance"
   ]
  },
  {
   "cell_type": "markdown",
   "id": "f7a0aa04",
   "metadata": {},
   "source": [
    "1e. Check for any missing values in the data"
   ]
  },
  {
   "cell_type": "code",
   "execution_count": 7,
   "id": "48c21f48",
   "metadata": {},
   "outputs": [
    {
     "data": {
      "text/plain": [
       "age         0\n",
       "sex         0\n",
       "cp          0\n",
       "trtbps      0\n",
       "chol        0\n",
       "fbs         0\n",
       "restecg     0\n",
       "thalachh    0\n",
       "exng        0\n",
       "oldpeak     0\n",
       "slp         0\n",
       "caa         0\n",
       "thall       0\n",
       "output      0\n",
       "dtype: int64"
      ]
     },
     "execution_count": 7,
     "metadata": {},
     "output_type": "execute_result"
    }
   ],
   "source": [
    "df_heart.isnull().sum()"
   ]
  },
  {
   "cell_type": "markdown",
   "id": "331ca894",
   "metadata": {},
   "source": [
    "## Exploratory data analysis "
   ]
  },
  {
   "cell_type": "markdown",
   "id": "ed44ab3f",
   "metadata": {},
   "source": [
    "We can create a countplot for different attributes in our data against the output to gain some insights into it.\n",
    "\n",
    "We can use the keyword argument `hue='output'` to create count bars for both outputs for each value of `x`"
   ]
  },
  {
   "cell_type": "code",
   "execution_count": 8,
   "id": "61dcc31f",
   "metadata": {},
   "outputs": [
    {
     "data": {
      "text/plain": [
       "<Axes: xlabel='sex', ylabel='count'>"
      ]
     },
     "execution_count": 8,
     "metadata": {},
     "output_type": "execute_result"
    },
    {
     "data": {
      "image/png": "[encoded data removed]",
      "text/plain": [
       "<Figure size 640x480 with 1 Axes>"
      ]
     },
     "metadata": {},
     "output_type": "display_data"
    }
   ],
   "source": [
    "sns.countplot(x='sex', hue='output', data=df_heart)"
   ]
  },
  {
   "cell_type": "markdown",
   "id": "7aba0862",
   "metadata": {},
   "source": [
    "Here we can see the count of both men (sex 0) and women (sex 1) and their risk of heart disease. You can see that for men, there is a much greater ratio of heart disease prevalence than for women."
   ]
  },
  {
   "cell_type": "markdown",
   "id": "fa1aa7f9",
   "metadata": {},
   "source": [
    "2. Create a countplot of output, grouped by chest pain type. What type/s of chest pain makes heart disease most likely?"
   ]
  },
  {
   "cell_type": "code",
   "execution_count": 9,
   "id": "d2ea2afb",
   "metadata": {},
   "outputs": [
    {
     "data": {
      "text/plain": [
       "<Axes: xlabel='cp', ylabel='count'>"
      ]
     },
     "execution_count": 9,
     "metadata": {},
     "output_type": "execute_result"
    },
    {
     "data": {
      "image/png": "[encoded data removed]",
      "text/plain": [
       "<Figure size 640x480 with 1 Axes>"
      ]
     },
     "metadata": {},
     "output_type": "display_data"
    }
   ],
   "source": [
    "sns.countplot(x='cp', hue='output', data=df_heart)"
   ]
  },
  {
   "cell_type": "markdown",
   "id": "8966a623",
   "metadata": {},
   "source": [
    "cp: Chest pain type (# 1: typical angina, 2: atypical angina, 3: non-anginal pain, 4: asymptomatic)"
   ]
  },
  {
   "cell_type": "code",
   "execution_count": null,
   "id": "de8cd78e",
   "metadata": {},
   "outputs": [],
   "source": []
  }
 ],
 "metadata": {
  "kernelspec": {
   "display_name": "Python 3 (ipykernel)",
   "language": "python",
   "name": "python3"
  },
  "language_info": {
   "codemirror_mode": {
    "name": "ipython",
    "version": 3
   },
   "file_extension": ".py",
   "mimetype": "text/x-python",
   "name": "python",
   "nbconvert_exporter": "python",
   "pygments_lexer": "ipython3",
   "version": "3.10.10"
  }
 },
 "nbformat": 4,
 "nbformat_minor": 5
}
