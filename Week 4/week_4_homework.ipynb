{
 "cells": [
  {
   "cell_type": "markdown",
   "id": "0411a15c",
   "metadata": {},
   "source": [
    "# Homework 4: logistic regression\n",
    "\n",
    "### PA Women in Tech: Intro to Data Science with Python\n",
    "\n",
    "In this homework you will look at creating a **logistic regression model**. You will:\n",
    "* define your input variables\n",
    "* visualise your data\n",
    "* create a logistic regression model\n",
    "* evaluate your model\n",
    "* create a confusion matrix\n",
    "* explore how a model could be improved\n",
    "\n",
    "Make sure your data file is located in the same folder as this Jupyter Notebook file (or you will have to provide the full path for the file location)."
   ]
  },
  {
   "cell_type": "markdown",
   "id": "bda02461",
   "metadata": {},
   "source": [
    "## Dataset description"
   ]
  },
  {
   "cell_type": "markdown",
   "id": "d6bb4817",
   "metadata": {},
   "source": [
    "In this homework, we will be working with the MNIST dataset - a classic machine learning dataset. This is a huge dataset containing 70,000, 28 x 28 images of handwritten digits from 0 to 9.\n",
    "\n",
    "Each row in the dataset represents an image, which is in a 28 x 28 pixel format. There is a column representing each pixel, with an integer that refers to its colour. There is also a 'label' column, indicating the actual number represented in the image.\n",
    "\n",
    "The dataset is already split into training (60,000 images) and test (10,000 images) sets.\n",
    "\n",
    "We are going to use logistic regression for image recognition and to classify these digits into their correct classes.\n",
    "\n",
    "Firstly, the necessary packages are imported (make sure you run the cell):"
   ]
  },
  {
   "cell_type": "code",
   "execution_count": null,
   "id": "7b2e311c",
   "metadata": {},
   "outputs": [],
   "source": [
    "from sklearn.metrics import ConfusionMatrixDisplay\n",
    "from sklearn.linear_model import LogisticRegression\n",
    "\n",
    "import numpy as np\n",
    "import pandas as pd\n",
    "import matplotlib.pyplot as plt"
   ]
  },
  {
   "cell_type": "markdown",
   "id": "0c7f2fe6",
   "metadata": {},
   "source": [
    "## Load the data\n",
    "\n",
    "1. Load the `mnist_train.csv` and `mnist_test.csv` files into two dataframes, and print out the first five rows of each"
   ]
  },
  {
   "cell_type": "code",
   "execution_count": null,
   "id": "2d4f7cb4",
   "metadata": {},
   "outputs": [],
   "source": [
    "df_train = pd.read_csv(\"mnist_train.csv\")\n",
    "df_train.head()"
   ]
  },
  {
   "cell_type": "code",
   "execution_count": null,
   "id": "45d33e00",
   "metadata": {},
   "outputs": [],
   "source": [
    "df_test = pd.read_csv(\"mnist_test.csv\")\n",
    "df_test.head()"
   ]
  },
  {
   "cell_type": "markdown",
   "id": "fa7bb23f",
   "metadata": {},
   "source": [
    "## Explore the data and define input and output variables"
   ]
  },
  {
   "cell_type": "markdown",
   "id": "685f4abd",
   "metadata": {},
   "source": [
    "2a. Display the shape of both the test and train dataframes"
   ]
  },
  {
   "cell_type": "code",
   "execution_count": null,
   "id": "f5dafdc8",
   "metadata": {},
   "outputs": [],
   "source": [
    "df_train.shape"
   ]
  },
  {
   "cell_type": "code",
   "execution_count": null,
   "id": "58abc051",
   "metadata": {},
   "outputs": [],
   "source": [
    "df_test.shape"
   ]
  },
  {
   "cell_type": "markdown",
   "id": "ada9da58",
   "metadata": {},
   "source": [
    "That is an extremely large number of columns! This is because each row represents an image, which is in a 28x28 pixel format. Each column in a row therefore represents a single pixel. That means there are 28 x 28 = 784 columns holding the image data!\n",
    "\n",
    "We now want to split our pre-divided train and test data into their X and y components.\n",
    "\n",
    "The output (y) column in the dataset is the `label` column. The inputs (X) are all other columns, which represent the image.\n",
    "\n",
    "2b. Create four variables, `X_train`, `X_test`, `y_train` and `y_test` from your test and train dataframes.\n",
    "\n",
    "Hint: to drop a column from a dataframe, you can use the [`.drop()`](https://pandas.pydata.org/docs/reference/api/pandas.DataFrame.drop.html) method"
   ]
  },
  {
   "cell_type": "code",
   "execution_count": null,
   "id": "9fe72239",
   "metadata": {},
   "outputs": [],
   "source": [
    "X_train = df_train.drop(columns=['label'])\n",
    "X_test = df_test.drop(columns=['label'])\n",
    "\n",
    "y_train = df_train['label']\n",
    "y_test = df_test['label']"
   ]
  },
  {
   "cell_type": "markdown",
   "id": "ae3324e8",
   "metadata": {},
   "source": [
    "Let's now see if we can try and have a look at some of the images. We'll try and view the first five rows (images)."
   ]
  },
  {
   "cell_type": "markdown",
   "id": "f64e1bdb",
   "metadata": {},
   "source": [
    "To do this, we can loop through the first five rows of the X train dataframe using Python _slicing_ (`X_train[0:5]`) and the dataframe `.iterrows()` method, which also gives us access to each iteration's _index_. For each iteration/image, we create a new [subplot](https://matplotlib.org/stable/api/_as_gen/matplotlib.pyplot.subplots.html).\n",
    "\n",
    "To actually display the image, we have to _reshape_ the data in each row, from a 1x784 dimension array to a 28x28 array. We can do this using the NumPy [`.reshape()`](https://numpy.org/doc/stable/reference/generated/numpy.reshape.html) method. To use this method, we have to pass a NumPy ndarray type (covered in week 1). To get the ndarray for each row (Series) in the dataframe, we use the `.values` attribute.\n",
    "\n",
    "We can then use the Matplotlib [`.imshow()`](https://matplotlib.org/stable/api/_as_gen/matplotlib.pyplot.imshow.html) method to display data as an image. The `cmap` argument sets the 'colour map' for the image."
   ]
  },
  {
   "cell_type": "code",
   "execution_count": null,
   "id": "27e764ea",
   "metadata": {},
   "outputs": [],
   "source": [
    "plt.figure(figsize=(20, 4)) # Sets up our plot and defines the size\n",
    "\n",
    "for index, image in X_train[0:5].iterrows():\n",
    "    plt.subplot(1, 5, index + 1)\n",
    "    plt.imshow(np.reshape(image.values, (28, 28)), cmap=plt.cm.gray)"
   ]
  },
  {
   "cell_type": "markdown",
   "id": "85ae6c39",
   "metadata": {},
   "source": [
    "## Training the model"
   ]
  },
  {
   "cell_type": "markdown",
   "id": "ecb25a9a",
   "metadata": {},
   "source": [
    "3a. Create the Linear Regression model object"
   ]
  },
  {
   "cell_type": "code",
   "execution_count": null,
   "id": "c5d8be06",
   "metadata": {},
   "outputs": [],
   "source": [
    "lr = LogisticRegression()"
   ]
  },
  {
   "cell_type": "markdown",
   "id": "28106915",
   "metadata": {},
   "source": [
    "3b. Fit your training data to the model (don't worry if a warning message comes up)"
   ]
  },
  {
   "cell_type": "code",
   "execution_count": null,
   "id": "e6788e76",
   "metadata": {},
   "outputs": [],
   "source": [
    "lr.fit(X_train, y_train)"
   ]
  },
  {
   "cell_type": "markdown",
   "id": "a5d51ad0",
   "metadata": {},
   "source": [
    "3c. Get the y predictions of your model for the X testing data, storing them in a variable called `predictions`"
   ]
  },
  {
   "cell_type": "code",
   "execution_count": null,
   "id": "e3b8cde4",
   "metadata": {},
   "outputs": [],
   "source": [
    "predictions = lr.predict(X_test)"
   ]
  },
  {
   "cell_type": "markdown",
   "id": "31bf4401",
   "metadata": {},
   "source": [
    "## Evaluating the model"
   ]
  },
  {
   "cell_type": "markdown",
   "id": "58c0dd2a",
   "metadata": {},
   "source": [
    "Let's have a look at the first prediction made.\n",
    "\n",
    "4a. Print out the first value of `predictions`"
   ]
  },
  {
   "cell_type": "code",
   "execution_count": null,
   "id": "4e6b9379",
   "metadata": {},
   "outputs": [],
   "source": [
    "predictions[0]"
   ]
  },
  {
   "cell_type": "markdown",
   "id": "08ce0537",
   "metadata": {},
   "source": [
    "To get the first row of the X test data to plot as an image, we can do the following:"
   ]
  },
  {
   "cell_type": "code",
   "execution_count": null,
   "id": "c874bf4d",
   "metadata": {},
   "outputs": [],
   "source": [
    "first_image_array = X_test.values[0]"
   ]
  },
  {
   "cell_type": "markdown",
   "id": "dbbb1ebf",
   "metadata": {},
   "source": [
    "4b. Plot the first row of the X test data as an image\n",
    "\n",
    "Hint: refer back to the earlier image plotting code shown to help"
   ]
  },
  {
   "cell_type": "code",
   "execution_count": null,
   "id": "6571929a",
   "metadata": {},
   "outputs": [],
   "source": [
    "plt.imshow(np.reshape(first_image_array, (28, 28)), cmap=plt.cm.gray)"
   ]
  },
  {
   "cell_type": "markdown",
   "id": "81cae342",
   "metadata": {},
   "source": [
    "Pretty cool! Our algorithm can correctly read handwritten numbers. Now how good is it overall?\n",
    "\n",
    "4c. Print out the model score"
   ]
  },
  {
   "cell_type": "code",
   "execution_count": null,
   "id": "05d0df74",
   "metadata": {},
   "outputs": [],
   "source": [
    "print(lr.score(X_test, y_test))"
   ]
  },
  {
   "cell_type": "markdown",
   "id": "9d053b33",
   "metadata": {},
   "source": [
    "What does the above figure mean? This part is extremely important in any machine learning model development process. As you have seen, actually training an algorithm in Python is not very hard - just one line of code. Really, the hard parts are:\n",
    "\n",
    "1. Cleaning and transforming your data to fit the algorithm you want to use, and choosing the right algorithm to fit your data/problem type. Most data doesn't arrive as pre-packaged as MNIST (this dataset) does.\n",
    "\n",
    "2. Evaluating how successful your algorithm will be in the real world i.e. how well does it generalise\n",
    "\n",
    "The above metric is the accuracy - the percentage of correctly classified images. So ~93% sounds pretty good?! Let's look a bit closer."
   ]
  },
  {
   "cell_type": "markdown",
   "id": "60c71336",
   "metadata": {},
   "source": [
    "4d. Plot a confusion matrix for the predictions and y test data"
   ]
  },
  {
   "cell_type": "code",
   "execution_count": 44,
   "id": "75a089ca",
   "metadata": {},
   "outputs": [
    {
     "data": {
      "image/png": "[encoded data removed]",
      "text/plain": [
       "<Figure size 640x480 with 2 Axes>"
      ]
     },
     "metadata": {},
     "output_type": "display_data"
    }
   ],
   "source": [
    "ConfusionMatrixDisplay.from_predictions(y_test, predictions)\n",
    "plt.show()"
   ]
  },
  {
   "cell_type": "markdown",
   "id": "ae15d5e5",
   "metadata": {},
   "source": [
    "The confusion matrix shows us the correctly classified images on the diagonal - the lighter the colour, the higher the number of correctly classified images. It looks like our model is particularly successful with '1' but struggles with '5' and '8' which are deeper shades of green.\n",
    "\n",
    "4e. Visualise the first five images which were incorrectly classified\n",
    "\n",
    "Hint: you can filter out rows of a dataframe using square brackets with a boolean condition in - e.g. `X_test[predictions != y_test]`\n",
    "\n",
    "Hint: the index of each filtered dataframe row is _not_ 1 to 5; you'll need to keep track of the iteration number via a separate variable to use in the `.subplot()` method"
   ]
  },
  {
   "cell_type": "code",
   "execution_count": 55,
   "id": "3dc3375f",
   "metadata": {},
   "outputs": [
    {
     "data": {
      "image/png": "[encoded data removed]",
      "text/plain": [
       "<Figure size 2000x400 with 5 Axes>"
      ]
     },
     "metadata": {},
     "output_type": "display_data"
    }
   ],
   "source": [
    "plt.figure(figsize=(20, 4)) # Sets up our plot and defines the size\n",
    "\n",
    "i = 1\n",
    "for index, image in X_test[predictions != y_test][0:5].iterrows():\n",
    "    plt.subplot(1, 5, i)\n",
    "    i += 1\n",
    "    plt.imshow(np.reshape(image.values, (28, 28)), cmap=plt.cm.gray)"
   ]
  },
  {
   "cell_type": "markdown",
   "id": "f7cc8f81",
   "metadata": {},
   "source": [
    "Would you have gotten these wrong? Some seem quite obvious, although others are trickier to make out!\n",
    "\n",
    "4f. Print the actual values of the images plotted above"
   ]
  },
  {
   "cell_type": "code",
   "execution_count": 59,
   "id": "84314d75",
   "metadata": {},
   "outputs": [
    {
     "data": {
      "text/plain": [
       "8      5\n",
       "33     4\n",
       "63     3\n",
       "66     6\n",
       "124    7\n",
       "Name: label, dtype: int64"
      ]
     },
     "execution_count": 59,
     "metadata": {},
     "output_type": "execute_result"
    }
   ],
   "source": [
    "X_test[predictions != y_test][0:5]"
   ]
  },
  {
   "cell_type": "markdown",
   "id": "4e25f6d1",
   "metadata": {},
   "source": [
    "Clearly our machine learning model is not yet at human level capability and is still getting ~7% of these images wrong on average. Now, imagine having to present this to your client for automatically reading national insurance numbers, or cheques, or medical reports..."
   ]
  },
  {
   "cell_type": "markdown",
   "id": "fc671ebf",
   "metadata": {},
   "source": [
    "## Extension: improving the model"
   ]
  },
  {
   "cell_type": "markdown",
   "id": "bb01ce6f",
   "metadata": {},
   "source": [
    "There are a number of _hyperparameters_ to the Logistic Regression model that you can change to affect how it performs. A hyperparameter is a parameter whose value is used to control the learning process. These are values that behind the scenes are affecting how `sklearn` fits your model. Almost all ML models have hyperparameters and you need a good understanding of how the model works to know how to optimise them.\n",
    "\n",
    "Please refer to the documentation for a full list of the parameters you can change: [sklearn LogisticRegression](https://scikit-learn.org/stable/modules/generated/sklearn.linear_model.LogisticRegression.html)\n",
    "\n",
    "We will consider a few different hyperparameters.\n",
    "\n",
    "\n",
    "### Penalty\n",
    "\n",
    "The _penalty_ adds a term to your error function (which is the difference between your predicted value and the actual value). For example, instead of taking each error as-is, you could square it. This term penalises complex models and has the effect of smoothing out the model. It does this by forcing the model to minimise the size of its coefficients. Watch this video to learn more about how these coefficients work in Logistic Regression, as we didn't go into the mathematical detail in the session: [Logistic Regression Details Pt1: Coefficients](https://www.youtube.com/watch?v=vN5cNN2-HWE)\n",
    "\n",
    "The penalty options are:\n",
    "\n",
    "* `none` - no penalty is applied\n",
    "\n",
    "* `l1` - the sum of the absolute coefficients\n",
    "\n",
    "* `l2` - the sum of the squares of the coefficients - this is the default, if the penalty isn't specified\n",
    "\n",
    "* `elasticnet` - adds both `l1` and `l2`\n",
    "\n",
    "To set the penalty on your Logistic Regression model you can use the keyword argument `penalty`:"
   ]
  },
  {
   "cell_type": "code",
   "execution_count": null,
   "id": "5eaeb9fc",
   "metadata": {},
   "outputs": [],
   "source": [
    "lr_test = LogisticRegression(penalty='none', max_iter=1000)"
   ]
  },
  {
   "cell_type": "code",
   "execution_count": null,
   "id": "da2ae4a6",
   "metadata": {},
   "outputs": [],
   "source": [
    "lr_test.fit(X_train, y_train)"
   ]
  },
  {
   "cell_type": "code",
   "execution_count": null,
   "id": "b7dd0cdb",
   "metadata": {},
   "outputs": [],
   "source": [
    "predictions = lr_test.predict(X_test)"
   ]
  },
  {
   "cell_type": "code",
   "execution_count": null,
   "id": "1ca78f7e",
   "metadata": {},
   "outputs": [],
   "source": [
    "print(lr_test.score(X_test, y_test))"
   ]
  },
  {
   "cell_type": "markdown",
   "id": "a6e6f954",
   "metadata": {},
   "source": [
    "### Solvers\n",
    "\n",
    "How does a supervised machine learning algorithm actually learn? As you learned in week 3, when you fit a model to the data you have some error when you are predicting the values. You want to minimise this error to get the best fitting and predicting model and there are different error metrics you can use to do this with.\n",
    "\n",
    "This raises a question: how do we know how to alter the parameters of our model in a way that reduces the error? We could choose random values for our parameters until we get a better error score but this isn't a very efficient approach.\n",
    "\n",
    "Most machine learning algorithms leverage a method called Gradient Descent to minimise the error, which we also briefly covered in week 3. The algorithm finds the resulting error for all the possible parameter values. This creates a very large set of error values which need to be searched to find the minimum error.\n",
    "\n",
    "There are different ways the algorithm can search this error data to find the minimum value; the different 'solvers' in Logistic Regression are the variations of the Gradient Descent algorithm. Try different ones to see which one works best or is fastest.\n",
    "\n",
    "You can choose from the below options (for some solvers you can only use certain penalty choices, these are listed):\n",
    "\n",
    "* `newton-cg` - [`l2`, `none`]\n",
    "* `lbfgs` - [`l2`, `none`] - this is the default\n",
    "* `liblinear` - [`l1`, `l2`]\n",
    "* `sag` - [`l2`, `none`]\n",
    "* `saga` - [`none`, `l1`, `l2`, `elasticnet`]\n",
    "\n",
    "To set the solver on your Logistic Regression model you can use the keyword argument `solver`:"
   ]
  },
  {
   "cell_type": "code",
   "execution_count": 61,
   "id": "933429e8",
   "metadata": {},
   "outputs": [
    {
     "data": {
      "text/html": [
       "<style>#sk-container-id-5 {color: black;background-color: white;}#sk-container-id-5 pre{padding: 0;}#sk-container-id-5 div.sk-toggleable {background-color: white;}#sk-container-id-5 label.sk-toggleable__label {cursor: pointer;display: block;width: 100%;margin-bottom: 0;padding: 0.3em;box-sizing: border-box;text-align: center;}#sk-container-id-5 label.sk-toggleable__label-arrow:before {content: \"▸\";float: left;margin-right: 0.25em;color: #696969;}#sk-container-id-5 label.sk-toggleable__label-arrow:hover:before {color: black;}#sk-container-id-5 div.sk-estimator:hover label.sk-toggleable__label-arrow:before {color: black;}#sk-container-id-5 div.sk-toggleable__content {max-height: 0;max-width: 0;overflow: hidden;text-align: left;background-color: #f0f8ff;}#sk-container-id-5 div.sk-toggleable__content pre {margin: 0.2em;color: black;border-radius: 0.25em;background-color: #f0f8ff;}#sk-container-id-5 input.sk-toggleable__control:checked~div.sk-toggleable__content {max-height: 200px;max-width: 100%;overflow: auto;}#sk-container-id-5 input.sk-toggleable__control:checked~label.sk-toggleable__label-arrow:before {content: \"▾\";}#sk-container-id-5 div.sk-estimator input.sk-toggleable__control:checked~label.sk-toggleable__label {background-color: #d4ebff;}#sk-container-id-5 div.sk-label input.sk-toggleable__control:checked~label.sk-toggleable__label {background-color: #d4ebff;}#sk-container-id-5 input.sk-hidden--visually {border: 0;clip: rect(1px 1px 1px 1px);clip: rect(1px, 1px, 1px, 1px);height: 1px;margin: -1px;overflow: hidden;padding: 0;position: absolute;width: 1px;}#sk-container-id-5 div.sk-estimator {font-family: monospace;background-color: #f0f8ff;border: 1px dotted black;border-radius: 0.25em;box-sizing: border-box;margin-bottom: 0.5em;}#sk-container-id-5 div.sk-estimator:hover {background-color: #d4ebff;}#sk-container-id-5 div.sk-parallel-item::after {content: \"\";width: 100%;border-bottom: 1px solid gray;flex-grow: 1;}#sk-container-id-5 div.sk-label:hover label.sk-toggleable__label {background-color: #d4ebff;}#sk-container-id-5 div.sk-serial::before {content: \"\";position: absolute;border-left: 1px solid gray;box-sizing: border-box;top: 0;bottom: 0;left: 50%;z-index: 0;}#sk-container-id-5 div.sk-serial {display: flex;flex-direction: column;align-items: center;background-color: white;padding-right: 0.2em;padding-left: 0.2em;position: relative;}#sk-container-id-5 div.sk-item {position: relative;z-index: 1;}#sk-container-id-5 div.sk-parallel {display: flex;align-items: stretch;justify-content: center;background-color: white;position: relative;}#sk-container-id-5 div.sk-item::before, #sk-container-id-5 div.sk-parallel-item::before {content: \"\";position: absolute;border-left: 1px solid gray;box-sizing: border-box;top: 0;bottom: 0;left: 50%;z-index: -1;}#sk-container-id-5 div.sk-parallel-item {display: flex;flex-direction: column;z-index: 1;position: relative;background-color: white;}#sk-container-id-5 div.sk-parallel-item:first-child::after {align-self: flex-end;width: 50%;}#sk-container-id-5 div.sk-parallel-item:last-child::after {align-self: flex-start;width: 50%;}#sk-container-id-5 div.sk-parallel-item:only-child::after {width: 0;}#sk-container-id-5 div.sk-dashed-wrapped {border: 1px dashed gray;margin: 0 0.4em 0.5em 0.4em;box-sizing: border-box;padding-bottom: 0.4em;background-color: white;}#sk-container-id-5 div.sk-label label {font-family: monospace;font-weight: bold;display: inline-block;line-height: 1.2em;}#sk-container-id-5 div.sk-label-container {text-align: center;}#sk-container-id-5 div.sk-container {/* jupyter's `normalize.less` sets `[hidden] { display: none; }` but bootstrap.min.css set `[hidden] { display: none !important; }` so we also need the `!important` here to be able to override the default hidden behavior on the sphinx rendered scikit-learn.org. See: https://github.com/scikit-learn/scikit-learn/issues/21755 */display: inline-block !important;position: relative;}#sk-container-id-5 div.sk-text-repr-fallback {display: none;}</style><div id=\"sk-container-id-5\" class=\"sk-top-container\"><div class=\"sk-text-repr-fallback\"><pre>LogisticRegression(solver=&#x27;newton-cg&#x27;)</pre><b>In a Jupyter environment, please rerun this cell to show the HTML representation or trust the notebook. <br />On GitHub, the HTML representation is unable to render, please try loading this page with nbviewer.org.</b></div><div class=\"sk-container\" hidden><div class=\"sk-item\"><div class=\"sk-estimator sk-toggleable\"><input class=\"sk-toggleable__control sk-hidden--visually\" id=\"sk-estimator-id-5\" type=\"checkbox\" checked><label for=\"sk-estimator-id-5\" class=\"sk-toggleable__label sk-toggleable__label-arrow\">LogisticRegression</label><div class=\"sk-toggleable__content\"><pre>LogisticRegression(solver=&#x27;newton-cg&#x27;)</pre></div></div></div></div></div>"
      ],
      "text/plain": [
       "LogisticRegression(solver='newton-cg')"
      ]
     },
     "execution_count": 61,
     "metadata": {},
     "output_type": "execute_result"
    }
   ],
   "source": [
    "LogisticRegression(solver=\"newton-cg\")"
   ]
  },
  {
   "cell_type": "markdown",
   "id": "30c7e146",
   "metadata": {},
   "source": [
    "### Maximum iterations\n",
    "\n",
    "When the solver is trying to find the minimum error, it iterates over the values. The maximum number of iterations is defaulted at 100, but we can set this value ourselves.\n",
    "\n",
    "To set the maximum number of iterations on your Logistic Regression model you can use the keyword argument `max_iter`:"
   ]
  },
  {
   "cell_type": "code",
   "execution_count": 62,
   "id": "829aabbd",
   "metadata": {},
   "outputs": [
    {
     "data": {
      "text/html": [
       "<style>#sk-container-id-6 {color: black;background-color: white;}#sk-container-id-6 pre{padding: 0;}#sk-container-id-6 div.sk-toggleable {background-color: white;}#sk-container-id-6 label.sk-toggleable__label {cursor: pointer;display: block;width: 100%;margin-bottom: 0;padding: 0.3em;box-sizing: border-box;text-align: center;}#sk-container-id-6 label.sk-toggleable__label-arrow:before {content: \"▸\";float: left;margin-right: 0.25em;color: #696969;}#sk-container-id-6 label.sk-toggleable__label-arrow:hover:before {color: black;}#sk-container-id-6 div.sk-estimator:hover label.sk-toggleable__label-arrow:before {color: black;}#sk-container-id-6 div.sk-toggleable__content {max-height: 0;max-width: 0;overflow: hidden;text-align: left;background-color: #f0f8ff;}#sk-container-id-6 div.sk-toggleable__content pre {margin: 0.2em;color: black;border-radius: 0.25em;background-color: #f0f8ff;}#sk-container-id-6 input.sk-toggleable__control:checked~div.sk-toggleable__content {max-height: 200px;max-width: 100%;overflow: auto;}#sk-container-id-6 input.sk-toggleable__control:checked~label.sk-toggleable__label-arrow:before {content: \"▾\";}#sk-container-id-6 div.sk-estimator input.sk-toggleable__control:checked~label.sk-toggleable__label {background-color: #d4ebff;}#sk-container-id-6 div.sk-label input.sk-toggleable__control:checked~label.sk-toggleable__label {background-color: #d4ebff;}#sk-container-id-6 input.sk-hidden--visually {border: 0;clip: rect(1px 1px 1px 1px);clip: rect(1px, 1px, 1px, 1px);height: 1px;margin: -1px;overflow: hidden;padding: 0;position: absolute;width: 1px;}#sk-container-id-6 div.sk-estimator {font-family: monospace;background-color: #f0f8ff;border: 1px dotted black;border-radius: 0.25em;box-sizing: border-box;margin-bottom: 0.5em;}#sk-container-id-6 div.sk-estimator:hover {background-color: #d4ebff;}#sk-container-id-6 div.sk-parallel-item::after {content: \"\";width: 100%;border-bottom: 1px solid gray;flex-grow: 1;}#sk-container-id-6 div.sk-label:hover label.sk-toggleable__label {background-color: #d4ebff;}#sk-container-id-6 div.sk-serial::before {content: \"\";position: absolute;border-left: 1px solid gray;box-sizing: border-box;top: 0;bottom: 0;left: 50%;z-index: 0;}#sk-container-id-6 div.sk-serial {display: flex;flex-direction: column;align-items: center;background-color: white;padding-right: 0.2em;padding-left: 0.2em;position: relative;}#sk-container-id-6 div.sk-item {position: relative;z-index: 1;}#sk-container-id-6 div.sk-parallel {display: flex;align-items: stretch;justify-content: center;background-color: white;position: relative;}#sk-container-id-6 div.sk-item::before, #sk-container-id-6 div.sk-parallel-item::before {content: \"\";position: absolute;border-left: 1px solid gray;box-sizing: border-box;top: 0;bottom: 0;left: 50%;z-index: -1;}#sk-container-id-6 div.sk-parallel-item {display: flex;flex-direction: column;z-index: 1;position: relative;background-color: white;}#sk-container-id-6 div.sk-parallel-item:first-child::after {align-self: flex-end;width: 50%;}#sk-container-id-6 div.sk-parallel-item:last-child::after {align-self: flex-start;width: 50%;}#sk-container-id-6 div.sk-parallel-item:only-child::after {width: 0;}#sk-container-id-6 div.sk-dashed-wrapped {border: 1px dashed gray;margin: 0 0.4em 0.5em 0.4em;box-sizing: border-box;padding-bottom: 0.4em;background-color: white;}#sk-container-id-6 div.sk-label label {font-family: monospace;font-weight: bold;display: inline-block;line-height: 1.2em;}#sk-container-id-6 div.sk-label-container {text-align: center;}#sk-container-id-6 div.sk-container {/* jupyter's `normalize.less` sets `[hidden] { display: none; }` but bootstrap.min.css set `[hidden] { display: none !important; }` so we also need the `!important` here to be able to override the default hidden behavior on the sphinx rendered scikit-learn.org. See: https://github.com/scikit-learn/scikit-learn/issues/21755 */display: inline-block !important;position: relative;}#sk-container-id-6 div.sk-text-repr-fallback {display: none;}</style><div id=\"sk-container-id-6\" class=\"sk-top-container\"><div class=\"sk-text-repr-fallback\"><pre>LogisticRegression(max_iter=1000)</pre><b>In a Jupyter environment, please rerun this cell to show the HTML representation or trust the notebook. <br />On GitHub, the HTML representation is unable to render, please try loading this page with nbviewer.org.</b></div><div class=\"sk-container\" hidden><div class=\"sk-item\"><div class=\"sk-estimator sk-toggleable\"><input class=\"sk-toggleable__control sk-hidden--visually\" id=\"sk-estimator-id-6\" type=\"checkbox\" checked><label for=\"sk-estimator-id-6\" class=\"sk-toggleable__label sk-toggleable__label-arrow\">LogisticRegression</label><div class=\"sk-toggleable__content\"><pre>LogisticRegression(max_iter=1000)</pre></div></div></div></div></div>"
      ],
      "text/plain": [
       "LogisticRegression(max_iter=1000)"
      ]
     },
     "execution_count": 62,
     "metadata": {},
     "output_type": "execute_result"
    }
   ],
   "source": [
    "LogisticRegression(max_iter=1000)"
   ]
  },
  {
   "cell_type": "markdown",
   "id": "b6a135bf",
   "metadata": {},
   "source": [
    "Good luck improving your model and seeing if you can increase the accuracy score!\n",
    "\n",
    "You'll notice that some of the adjustments you make to your model may cause it to become very slow when fitting the data.\n",
    "If you want to track the time taken to train your model using the various hyperparameters, Python's `time` module may come in handy:"
   ]
  },
  {
   "cell_type": "code",
   "execution_count": 50,
   "id": "c35a2191",
   "metadata": {},
   "outputs": [
    {
     "name": "stdout",
     "output_type": "stream",
     "text": [
      "Time taken: 2.6941299438476562e-05 seconds\n"
     ]
    }
   ],
   "source": [
    "import time\n",
    "\n",
    "start = time.time()\n",
    "# do something\n",
    "end = time.time()\n",
    "print(f\"Time taken: {end - start} seconds\")"
   ]
  }
 ],
 "metadata": {
  "kernelspec": {
   "display_name": "Python 3 (ipykernel)",
   "language": "python",
   "name": "python3"
  },
  "language_info": {
   "codemirror_mode": {
    "name": "ipython",
    "version": 3
   },
   "file_extension": ".py",
   "mimetype": "text/x-python",
   "name": "python",
   "nbconvert_exporter": "python",
   "pygments_lexer": "ipython3",
   "version": "3.10.10"
  }
 },
 "nbformat": 4,
 "nbformat_minor": 5
}
